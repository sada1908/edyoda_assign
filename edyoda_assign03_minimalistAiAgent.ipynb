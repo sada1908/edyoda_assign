{
  "nbformat": 4,
  "nbformat_minor": 0,
  "metadata": {
    "colab": {
      "provenance": []
    },
    "kernelspec": {
      "name": "python3",
      "display_name": "Python 3"
    },
    "language_info": {
      "name": "python"
    }
  },
  "cells": [
    {
      "cell_type": "code",
      "execution_count": 1,
      "metadata": {
        "colab": {
          "base_uri": "https://localhost:8080/"
        },
        "collapsed": true,
        "id": "UpSOzwp5HGFF",
        "outputId": "b9c2f83e-c222-4c8b-b574-e95e07f893b8"
      },
      "outputs": [
        {
          "output_type": "stream",
          "name": "stdout",
          "text": [
            "Requirement already satisfied: openai in /usr/local/lib/python3.11/dist-packages (1.84.0)\n",
            "Collecting python-dotenv\n",
            "  Downloading python_dotenv-1.1.0-py3-none-any.whl.metadata (24 kB)\n",
            "Requirement already satisfied: anyio<5,>=3.5.0 in /usr/local/lib/python3.11/dist-packages (from openai) (4.9.0)\n",
            "Requirement already satisfied: distro<2,>=1.7.0 in /usr/local/lib/python3.11/dist-packages (from openai) (1.9.0)\n",
            "Requirement already satisfied: httpx<1,>=0.23.0 in /usr/local/lib/python3.11/dist-packages (from openai) (0.28.1)\n",
            "Requirement already satisfied: jiter<1,>=0.4.0 in /usr/local/lib/python3.11/dist-packages (from openai) (0.10.0)\n",
            "Requirement already satisfied: pydantic<3,>=1.9.0 in /usr/local/lib/python3.11/dist-packages (from openai) (2.11.5)\n",
            "Requirement already satisfied: sniffio in /usr/local/lib/python3.11/dist-packages (from openai) (1.3.1)\n",
            "Requirement already satisfied: tqdm>4 in /usr/local/lib/python3.11/dist-packages (from openai) (4.67.1)\n",
            "Requirement already satisfied: typing-extensions<5,>=4.11 in /usr/local/lib/python3.11/dist-packages (from openai) (4.14.0)\n",
            "Requirement already satisfied: idna>=2.8 in /usr/local/lib/python3.11/dist-packages (from anyio<5,>=3.5.0->openai) (3.10)\n",
            "Requirement already satisfied: certifi in /usr/local/lib/python3.11/dist-packages (from httpx<1,>=0.23.0->openai) (2025.4.26)\n",
            "Requirement already satisfied: httpcore==1.* in /usr/local/lib/python3.11/dist-packages (from httpx<1,>=0.23.0->openai) (1.0.9)\n",
            "Requirement already satisfied: h11>=0.16 in /usr/local/lib/python3.11/dist-packages (from httpcore==1.*->httpx<1,>=0.23.0->openai) (0.16.0)\n",
            "Requirement already satisfied: annotated-types>=0.6.0 in /usr/local/lib/python3.11/dist-packages (from pydantic<3,>=1.9.0->openai) (0.7.0)\n",
            "Requirement already satisfied: pydantic-core==2.33.2 in /usr/local/lib/python3.11/dist-packages (from pydantic<3,>=1.9.0->openai) (2.33.2)\n",
            "Requirement already satisfied: typing-inspection>=0.4.0 in /usr/local/lib/python3.11/dist-packages (from pydantic<3,>=1.9.0->openai) (0.4.1)\n",
            "Downloading python_dotenv-1.1.0-py3-none-any.whl (20 kB)\n",
            "Installing collected packages: python-dotenv\n",
            "Successfully installed python-dotenv-1.1.0\n"
          ]
        }
      ],
      "source": [
        "!pip install openai python-dotenv"
      ]
    },
    {
      "cell_type": "code",
      "source": [
        "# Step 1: Import required libraries\n",
        "import openai\n",
        "import os"
      ],
      "metadata": {
        "id": "J_Kf4Pb-HOc4"
      },
      "execution_count": 2,
      "outputs": []
    },
    {
      "cell_type": "code",
      "source": [
        "# Step 2: Set your OpenAI API key directly\n",
        "from google.colab import userdata\n",
        "openai.api_key = userdata.get('OPENAI_API_KEY')"
      ],
      "metadata": {
        "id": "6w6IIbi5HTj_"
      },
      "execution_count": 5,
      "outputs": []
    },
    {
      "cell_type": "code",
      "source": [
        "# ✅ Step 3: Define questions and evaluation prompt\n",
        "questions = [\n",
        "    \"1. What is a list in Python and how is it different from a tuple?\",\n",
        "    \"2. Write a Python function to check if a number is prime.\",\n",
        "    \"3. Explain the concept of list comprehension with an example.\"\n",
        "]\n",
        "\n",
        "evaluation_criteria = (\n",
        "    \"Evaluate the learner's response based on the following:\\n\"\n",
        "    \"- Accuracy of explanation or code\\n\"\n",
        "    \"- Clarity of the explanation\\n\"\n",
        "    \"- Any key points missing\\n\"\n",
        "    \"Give constructive feedback after each answer. Be specific and encouraging.\\n\"\n",
        ")\n"
      ],
      "metadata": {
        "id": "3AOwMuNZHw-R"
      },
      "execution_count": 7,
      "outputs": []
    },
    {
      "cell_type": "code",
      "source": [
        "# ✅ Step 4: Function to get feedback from OpenAI\n",
        "def evaluate_response(question, response):\n",
        "    prompt = (\n",
        "        f\"{evaluation_criteria}\\n\"\n",
        "        f\"Question: {question}\\n\"\n",
        "        f\"Answer: {response}\\n\"\n",
        "        f\"Feedback:\"\n",
        "    )\n",
        "    completion = openai.chat.completions.create(\n",
        "        model=\"gpt-3.5-turbo\",\n",
        "        messages=[{\"role\": \"user\", \"content\": prompt}],\n",
        "        temperature=0.7\n",
        "    )\n",
        "    return completion.choices[0].message.content"
      ],
      "metadata": {
        "id": "5RysIwmUIXNJ"
      },
      "execution_count": 14,
      "outputs": []
    },
    {
      "cell_type": "code",
      "source": [
        "# ✅ Step 5: Run the agent\n",
        "def run_agent():\n",
        "    print(\"👋 Welcome to the Python Skill Evaluation Agent!\")\n",
        "    for i, question in enumerate(questions):\n",
        "        print(f\"\\n❓ Question {i+1}: {question}\")\n",
        "        answer = input(\"Your answer: \")\n",
        "        feedback = evaluate_response(question, answer)\n",
        "        print(f\"\\n📝 Feedback: {feedback}\")"
      ],
      "metadata": {
        "id": "_jUTjzLFIZ1g"
      },
      "execution_count": 9,
      "outputs": []
    },
    {
      "cell_type": "code",
      "source": [
        "# ✅ Step 6: Call the function\n",
        "run_agent()"
      ],
      "metadata": {
        "colab": {
          "base_uri": "https://localhost:8080/"
        },
        "id": "lt-cJwbnIgRn",
        "outputId": "cf25ae40-49ce-46bb-a6be-918a4016ac23"
      },
      "execution_count": 15,
      "outputs": [
        {
          "output_type": "stream",
          "name": "stdout",
          "text": [
            "👋 Welcome to the Python Skill Evaluation Agent!\n",
            "\n",
            "❓ Question 1: 1. What is a list in Python and how is it different from a tuple?\n",
            "Your answer: List ia set of variables and are mutable whereas in tuple thery are imuatable menaing you cannot chnage the elements in the tuple once it is declared\n",
            "\n",
            "📝 Feedback: The explanation provided is accurate, but there are some spelling and grammar errors. It would be clearer if you mentioned that a list is enclosed in square brackets [] while a tuple is enclosed in parentheses (). Additionally, you could expand on the concept of mutability by explaining that lists can be modified after creation, while tuples cannot.\n",
            "\n",
            "Overall, good job on explaining the difference between a list and a tuple in Python. Just make sure to work on spelling and grammar for better clarity.\n",
            "\n",
            "❓ Question 2: 2. Write a Python function to check if a number is prime.\n",
            "Your answer: def check_prime(n):\n",
            "\n",
            "📝 Feedback: The learner provided a good start to the function. However, the code is incomplete. Remember that a prime number is only divisible by 1 and itself. The function should return True if the number is prime and False otherwise. Keep up the good work, and make sure to include the necessary logic to check for prime numbers.\n",
            "\n",
            "❓ Question 3: 3. Explain the concept of list comprehension with an example.\n",
            "Your answer: List comprehension is a concise way to create lists in Python. Instead of using a for loop to append elements one by one, you can create the whole list in a single line. squares = [x**2 for x in range(10)] \n",
            "\n",
            "📝 Feedback: The learner has provided an accurate explanation of list comprehension and a clear example. They correctly explained that list comprehension is a concise way to create lists in Python and demonstrated it with the example of squaring numbers from 0 to 9 in a single line.\n",
            "\n",
            "Constructive feedback: Great job! Your explanation and example are accurate and clear. You effectively demonstrated how list comprehension works in Python with a simple example. Keep up the good work!\n"
          ]
        }
      ]
    },
    {
      "cell_type": "code",
      "source": [
        "# Call the function\n",
        "run_agent()"
      ],
      "metadata": {
        "colab": {
          "base_uri": "https://localhost:8080/"
        },
        "id": "qBRwQQCIKX2x",
        "outputId": "c1c501c3-2701-47a3-e18c-05c8634a915d"
      },
      "execution_count": 16,
      "outputs": [
        {
          "output_type": "stream",
          "name": "stdout",
          "text": [
            "👋 Welcome to the Python Skill Evaluation Agent!\n",
            "\n",
            "❓ Question 1: 1. What is a list in Python and how is it different from a tuple?\n",
            "Your answer: List ia collection of variables seperated by commasand are mutable whereas in tuple thery are immutable meaning you cannot change the elements in the tuple once it is declared\n",
            "\n",
            "📝 Feedback: - Accuracy of explanation: The explanation provided is mostly accurate, but there are some typos and formatting issues.\n",
            "- Clarity of the explanation: The explanation is somewhat clear, but it could be improved with better formatting and structure.\n",
            "- Any key points missing: The explanation could benefit from mentioning that lists are enclosed in square brackets [] while tuples are enclosed in parentheses ().\n",
            "\n",
            "Constructive feedback: Your explanation is on the right track but could be improved by fixing the typos, formatting the answer better, and including the key points about the syntax differences between lists and tuples. Keep up the good work!\n",
            "\n",
            "❓ Question 2: 2. Write a Python function to check if a number is prime.\n",
            "Your answer: def check_prime(n):     if n < 2:         print(f\"{n} is not a prime number.\")         return      for i in range(2, int(n**0.5) + 1):  # check up to √n for efficiency         if n % i == 0:             print(f\"{n} is not a prime number.\")             return     print(f\"{n} is a prime number.\")\n",
            "\n",
            "📝 Feedback: The code provided is correct and will accurately determine if a number is prime. It correctly checks for numbers less than 2 and then iterates up to the square root of the number to check for factors. The explanation is clear and concise, making it easy to understand the logic behind the code. One key point missing is to mention that prime numbers are greater than 1 and only divisible by 1 and themselves. Overall, great job on this response! Keep up the good work.\n",
            "\n",
            "❓ Question 3: 3. Explain the concept of list comprehension with an example.\n",
            "Your answer: List comprehension is a concise way to create lists in Python. Instead of using a for loop to append elements one by one, you can create the whole list in a single line. squares = [x**2 for x in range(10)]\n",
            "\n",
            "📝 Feedback: Your explanation of list comprehension is accurate and clear. You provided a relevant example to demonstrate how it works. One suggestion for improvement could be to include a brief explanation of the syntax used in list comprehension, such as the structure [expression for item in list]. Overall, well done! Keep up the good work.\n"
          ]
        }
      ]
    },
    {
      "cell_type": "code",
      "source": [],
      "metadata": {
        "id": "ltwVynUQI8Qs"
      },
      "execution_count": null,
      "outputs": []
    }
  ]
}