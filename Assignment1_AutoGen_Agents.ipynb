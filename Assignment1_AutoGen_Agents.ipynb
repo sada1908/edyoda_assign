{
 "cells": [
  {
   "cell_type": "markdown",
   "id": "c8f7d108",
   "metadata": {},
   "source": [
    "# 🔧 Assignment 1: UserProxyAgent and AssistantAgent Interaction Using AutoGen"
   ]
  },
  {
   "cell_type": "code",
   "execution_count": null,
   "id": "aa353dcd",
   "metadata": {},
   "outputs": [],
   "source": [
    "!pip install pyautogen"
   ]
  },
  {
   "cell_type": "code",
   "execution_count": null,
   "id": "bc298e97",
   "metadata": {},
   "outputs": [],
   "source": [
    "import os\n",
    "from autogen import UserProxyAgent, AssistantAgent\n",
    "\n",
    "# Set your OpenAI API key (masked)\n",
    "os.environ[\"OPENAI_API_KEY\"] = \"your-openai-api-key-here\"  # 🔒 Replace securely"
   ]
  },
  {
   "cell_type": "code",
   "execution_count": null,
   "id": "f60cfcd1",
   "metadata": {},
   "outputs": [],
   "source": [
    "llm_config = {\n",
    "    \"config_list\": [\n",
    "        {\n",
    "            \"model\": \"gpt-4\",\n",
    "            \"api_key\": os.environ[\"OPENAI_API_KEY\"]\n",
    "        }\n",
    "    ],\n",
    "    \"cache_seed\": 42  # Optional for reproducibility\n",
    "}"
   ]
  },
  {
   "cell_type": "code",
   "execution_count": null,
   "id": "986a2c40",
   "metadata": {},
   "outputs": [],
   "source": [
    "assistant = AssistantAgent(\n",
    "    name=\"SupportBot\",\n",
    "    llm_config=llm_config,\n",
    "    system_message=\"You are a helpful customer support agent. Answer questions clearly and politely.\"\n",
    ")\n",
    "\n",
    "user = UserProxyAgent(\n",
    "    name=\"Customer\",\n",
    "    human_input_mode=\"NEVER\",\n",
    "    max_consecutive_auto_reply=1\n",
    ")"
   ]
  },
  {
   "cell_type": "code",
   "execution_count": null,
   "id": "cd73a35c",
   "metadata": {},
   "outputs": [],
   "source": [
    "print(\"🔁 Simulating: How do I reset my password?\\n\")\n",
    "\n",
    "user.initiate_chat(\n",
    "    assistant,\n",
    "    message=\"How do I reset my password?\"\n",
    ")"
   ]
  }
 ],
 "metadata": {},
 "nbformat": 4,
 "nbformat_minor": 5
}
