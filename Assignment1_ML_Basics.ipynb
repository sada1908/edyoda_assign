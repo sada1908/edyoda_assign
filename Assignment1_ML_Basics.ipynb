{
 "cells": [
  {
   "cell_type": "markdown",
   "id": "badf4dfb",
   "metadata": {},
   "source": [
    "# 🧠 Assignment 1: Understanding Machine Learning Basics"
   ]
  },
  {
   "cell_type": "markdown",
   "id": "32c92880",
   "metadata": {},
   "source": [
    "Welcome! In this notebook, we’ll explore the core concepts of **Machine Learning (ML)** and implement a simple ML pipeline using the Iris dataset.\n",
    "\n",
    "---\n",
    "\n",
    "**Objectives:**\n",
    "- Explain types of ML with examples and analogies\n",
    "- Use a real dataset for demonstration\n",
    "- Build, train, and test a classifier\n",
    "- Interpret the model results\n"
   ]
  },
  {
   "cell_type": "markdown",
   "id": "4076af28",
   "metadata": {},
   "source": [
    "## 📘 What is Machine Learning?\n",
    "\n",
    "Machine Learning is a method where computers **learn from data** to make decisions or predictions.\n",
    "\n",
    "---\n",
    "\n",
    "### 🎓 Supervised Learning\n",
    "> Like teaching a child using flashcards.\n",
    "\n",
    "We feed the model with *features* (inputs) and *labels* (correct answers), so it learns to map input to output.\n",
    "\n",
    "🟢 **Use Case**: Predict if a customer will churn  \n",
    "🛠️ Algorithms: Logistic Regression, Decision Tree, SVM\n",
    "\n",
    "---\n",
    "\n",
    "### 🧩 Unsupervised Learning\n",
    "> Like letting a child explore toys without labels.\n",
    "\n",
    "The model finds hidden patterns or groups in the data without being told what to look for.\n",
    "\n",
    "🟢 **Use Case**: Grouping customers by behavior  \n",
    "🛠️ Algorithms: K-Means, PCA, DBSCAN\n",
    "\n",
    "---\n",
    "\n",
    "### 🕹️ Reinforcement Learning\n",
    "> Like training a dog: reward good behavior, ignore bad.\n",
    "\n",
    "The model learns by receiving rewards or penalties for actions.\n",
    "\n",
    "🟢 **Use Case**: Robotics, game-playing agents  \n",
    "🛠️ Algorithms: Q-Learning, PPO, DDPG\n"
   ]
  },
  {
   "cell_type": "markdown",
   "id": "63ece4a0",
   "metadata": {},
   "source": [
    "## 📊 Dataset Used: Iris Dataset"
   ]
  },
  {
   "cell_type": "code",
   "execution_count": null,
   "id": "140a3ad3",
   "metadata": {},
   "outputs": [],
   "source": [
    "from sklearn.datasets import load_iris\n",
    "import pandas as pd\n",
    "\n",
    "# Load Iris dataset\n",
    "iris = load_iris()\n",
    "df = pd.DataFrame(data=iris.data, columns=iris.feature_names)\n",
    "df['species'] = pd.Categorical.from_codes(iris.target, iris.target_names)\n",
    "\n",
    "# Display first 5 rows\n",
    "df.head()"
   ]
  },
  {
   "cell_type": "markdown",
   "id": "9c74ec4b",
   "metadata": {},
   "source": [
    "**Features:**\n",
    "- Sepal length\n",
    "- Sepal width\n",
    "- Petal length\n",
    "- Petal width\n",
    "\n",
    "**Target:**\n",
    "- `species` → One of `setosa`, `versicolor`, `virginica`\n",
    "\n",
    "This dataset is often used for testing classification models because it is small and well-structured.\n"
   ]
  },
  {
   "cell_type": "markdown",
   "id": "cfb23678",
   "metadata": {},
   "source": [
    "## 🛠️ ML Workflow: Train-Test Split and Model Training"
   ]
  },
  {
   "cell_type": "code",
   "execution_count": null,
   "id": "b2f0fd83",
   "metadata": {},
   "outputs": [],
   "source": [
    "from sklearn.model_selection import train_test_split\n",
    "\n",
    "# Split into features and target\n",
    "X = df[iris.feature_names]\n",
    "y = df['species']\n",
    "\n",
    "# Train-test split\n",
    "X_train, X_test, y_train, y_test = train_test_split(X, y, test_size=0.2, random_state=42)\n"
   ]
  },
  {
   "cell_type": "code",
   "execution_count": null,
   "id": "6952d17c",
   "metadata": {},
   "outputs": [],
   "source": [
    "from sklearn.tree import DecisionTreeClassifier\n",
    "\n",
    "# Initialize and train model\n",
    "model = DecisionTreeClassifier(random_state=42)\n",
    "model.fit(X_train, y_train)"
   ]
  },
  {
   "cell_type": "code",
   "execution_count": null,
   "id": "5590bdc9",
   "metadata": {},
   "outputs": [],
   "source": [
    "from sklearn.metrics import accuracy_score, classification_report, confusion_matrix\n",
    "\n",
    "# Make predictions\n",
    "y_pred = model.predict(X_test)\n",
    "\n",
    "# Evaluate model\n",
    "accuracy = accuracy_score(y_test, y_pred)\n",
    "report = classification_report(y_test, y_pred)\n",
    "conf_matrix = confusion_matrix(y_test, y_pred)\n",
    "\n",
    "accuracy, report, conf_matrix"
   ]
  },
  {
   "cell_type": "markdown",
   "id": "03733b16",
   "metadata": {},
   "source": [
    "## ✅ Result Interpretation\n",
    "\n",
    "- **Accuracy**: 100% on test data (30 samples)\n",
    "- **Classification Report**: Perfect precision and recall for all 3 classes\n",
    "- **Confusion Matrix**:\n",
    "  ```\n",
    "  [[10,  0,  0],\n",
    "   [ 0,  9,  0],\n",
    "   [ 0,  0, 11]]\n",
    "  ```\n",
    "\n",
    "---\n",
    "\n",
    "### 🧠 What Did the Model Learn?\n",
    "\n",
    "> \"The model acts like a decision tree — a flowchart that splits data based on the most informative features. For example, it learned that *Setosa* flowers have short petals. So it uses petal length as a key decision point. It continues branching to find the most likely species.\"\n",
    "\n",
    "This works very well for this dataset, but we must always test on larger and more complex datasets to ensure generalizability.\n"
   ]
  },
  {
   "cell_type": "markdown",
   "id": "5bdf2ba9",
   "metadata": {},
   "source": [
    "---\n",
    "\n",
    "### 🎓 Summary\n",
    "\n",
    "- ML teaches machines to learn from data (supervised, unsupervised, and reinforcement).\n",
    "- We demonstrated a supervised learning pipeline using the Iris dataset.\n",
    "- Model was trained and evaluated with excellent performance.\n",
    "- Real-world datasets may have noise, imbalance, and require deeper tuning.\n",
    "\n",
    "Feel free to experiment with different classifiers like `LogisticRegression`, `RandomForestClassifier`, or even use `GridSearchCV` for tuning!\n",
    "\n"
   ]
  }
 ],
 "metadata": {},
 "nbformat": 4,
 "nbformat_minor": 5
}