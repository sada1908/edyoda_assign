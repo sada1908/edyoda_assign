{
 "cells": [
  {
   "cell_type": "code",
   "execution_count": 1,
   "id": "0bb9f3db",
   "metadata": {},
   "outputs": [],
   "source": [
    "# give me code to predict house rents\n",
    "import pandas as pd\n",
    "from sklearn.model_selection import train_test_split\n",
    "from sklearn.linear_model import LinearRegression\n",
    "from sklearn.metrics import mean_squared_error\n",
    "import numpy as np\n"
   ]
  },
  {
   "cell_type": "code",
   "execution_count": 12,
   "id": "cf0b4d8f",
   "metadata": {},
   "outputs": [],
   "source": [
    "def predict_house_rents(data):\n",
    "    # Assuming 'data' is a DataFrame with features and 'rent' as the target variable\n",
    "    print(data.head())\n",
    "    \n",
    "    X = data.drop('Price', axis=1)\n",
    "    y = data['Price']\n",
    "    print(\"Features used for prediction:\", X.columns.tolist())\n",
    "\n",
    "    # Split the dataset into training and testing sets\n",
    "    X_train, X_test, y_train, y_test = train_test_split(X, y, test_size=0.2, random_state=42)\n",
    "\n",
    "    # Create a linear regression model\n",
    "    model = LinearRegression()\n",
    "\n",
    "    # Fit the model on the training data\n",
    "    model.fit(X_train, y_train)\n",
    "\n",
    "    # Make predictions on the test set\n",
    "    predictions = model.predict(X_test)\n",
    "\n",
    "    # Calculate the mean squared error\n",
    "    mse = mean_squared_error(y_test, predictions)\n",
    "    \n",
    "    return model, mse\n",
    "\n"
   ]
  },
  {
   "cell_type": "code",
   "execution_count": 13,
   "id": "9a08f57b",
   "metadata": {},
   "outputs": [
    {
     "name": "stdout",
     "output_type": "stream",
     "text": [
      "   Unnamed: 0      Sqft  Floor  TotalFloor  Bedroom  Living.Room  Bathroom  \\\n",
      "0           1  1177.698      2           7        2            2         2   \n",
      "1           2  2134.800      5           7        4            2         2   \n",
      "2           3  1138.560      5           7        2            2         1   \n",
      "3           4  1458.780      2           7        3            2         2   \n",
      "4           5   967.776     11          14        3            2         2   \n",
      "\n",
      "   Price  \n",
      "0  62000  \n",
      "1  78000  \n",
      "2  58000  \n",
      "3  45000  \n",
      "4  45000  \n",
      "Features used for prediction: ['Unnamed: 0', 'Sqft', 'Floor', 'TotalFloor', 'Bedroom', 'Living.Room', 'Bathroom']\n",
      "Model trained successfully.\n",
      "Mean Squared Error: 401068215.25011677\n",
      "Coefficients: [   -4.57484626    36.49939261   986.01891793   163.36564973\n",
      "  -740.48288833 -3404.31819454  2894.95272949]\n",
      "Intercept: 3154.0803680908284\n"
     ]
    }
   ],
   "source": [
    "# Example usage:\n",
    "if __name__ == \"__main__\":\n",
    "    # Load your dataset\n",
    "    data = pd.read_csv('/Users/sadanandrajpurohit/vscodes/house_rental_data.csv')  # Replace with your dataset path\n",
    "    model, mse = predict_house_rents(data)\n",
    "    \n",
    "    print(\"Model trained successfully.\")\n",
    "    print(f\"Mean Squared Error: {mse}\")\n",
    "    print(\"Coefficients:\", model.coef_)\n",
    "print(\"Intercept:\", model.intercept_)"
   ]
  }
 ],
 "metadata": {
  "kernelspec": {
   "display_name": ".venv",
   "language": "python",
   "name": "python3"
  },
  "language_info": {
   "codemirror_mode": {
    "name": "ipython",
    "version": 3
   },
   "file_extension": ".py",
   "mimetype": "text/x-python",
   "name": "python",
   "nbconvert_exporter": "python",
   "pygments_lexer": "ipython3",
   "version": "3.12.0"
  }
 },
 "nbformat": 4,
 "nbformat_minor": 5
}
