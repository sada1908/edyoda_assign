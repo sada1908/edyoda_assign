{
  "nbformat": 4,
  "nbformat_minor": 0,
  "metadata": {
    "colab": {
      "provenance": [],
      "authorship_tag": "ABX9TyOCS9d2fyWk38FeX14R+9oR",
      "include_colab_link": true
    },
    "kernelspec": {
      "name": "python3",
      "display_name": "Python 3"
    },
    "language_info": {
      "name": "python"
    }
  },
  "cells": [
    {
      "cell_type": "markdown",
      "metadata": {
        "id": "view-in-github",
        "colab_type": "text"
      },
      "source": [
        "<a href=\"https://colab.research.google.com/github/sada1908/edyoda_assign/blob/main/edyoda_groupchatAssign05.ipynb\" target=\"_parent\"><img src=\"https://colab.research.google.com/assets/colab-badge.svg\" alt=\"Open In Colab\"/></a>"
      ]
    },
    {
      "cell_type": "code",
      "source": [
        "import os"
      ],
      "metadata": {
        "id": "Q9xJ3BZBBxbb"
      },
      "execution_count": 8,
      "outputs": []
    },
    {
      "cell_type": "code",
      "source": [
        "%pip install --upgrade --quiet  langchain-openai"
      ],
      "metadata": {
        "id": "4zVWrsKkEOrr"
      },
      "execution_count": 15,
      "outputs": []
    },
    {
      "cell_type": "code",
      "source": [
        "from google.colab import userdata\n",
        "os.environ[\"OPENAI_API_KEY\"] = userdata.get('OPENAI_API_KEY')"
      ],
      "metadata": {
        "id": "yWRIfXWZCArM"
      },
      "execution_count": 10,
      "outputs": []
    },
    {
      "cell_type": "code",
      "execution_count": 16,
      "metadata": {
        "id": "t9TDwkFnA5uR"
      },
      "outputs": [],
      "source": [
        "from langchain_openai import ChatOpenAI"
      ]
    },
    {
      "cell_type": "code",
      "source": [
        "class IdeaAgent:\n",
        "    def __init__(self, llm):\n",
        "        self.llm = llm\n",
        "\n",
        "    def generate_idea(self, topic):\n",
        "        prompt = f\"Brainstorm a creative idea for an article about: {topic}\"\n",
        "        return self.llm.invoke(prompt)\n"
      ],
      "metadata": {
        "id": "uQKx0sQeA-m9"
      },
      "execution_count": 4,
      "outputs": []
    },
    {
      "cell_type": "code",
      "source": [
        "class WriterAgent:\n",
        "    def __init__(self, llm):\n",
        "        self.llm = llm\n",
        "\n",
        "    def write_draft(self, idea):\n",
        "        prompt = f\"Write a draft article based on this idea: {idea}\"\n",
        "        return self.llm.invoke(prompt)"
      ],
      "metadata": {
        "id": "Kb4NJ6bvBSFo"
      },
      "execution_count": 5,
      "outputs": []
    },
    {
      "cell_type": "code",
      "source": [
        "class GroupChatManager:\n",
        "    def __init__(self, idea_agent, writer_agent, rounds=3):\n",
        "        self.idea_agent = idea_agent\n",
        "        self.writer_agent = writer_agent\n",
        "        self.rounds = rounds\n",
        "\n",
        "    def run_discussion(self, topic):\n",
        "        conversation = []\n",
        "        prompt = topic\n",
        "        for i in range(self.rounds):\n",
        "            # IdeaAgent turn\n",
        "            idea_message = self.idea_agent.generate_idea(prompt)\n",
        "            idea = idea_message.content.strip()\n",
        "            conversation.append(f\"IdeaAgent: {idea}\")\n",
        "            draft_message = self.writer_agent.write_draft(idea)\n",
        "            draft = draft_message.content.strip()\n",
        "            conversation.append(f\"WriterAgent: {draft}\")\n",
        "\n",
        "            # Next round prompt is the latest draft\n",
        "            prompt = draft\n",
        "        return conversation"
      ],
      "metadata": {
        "id": "X8z3nQUFBSIX"
      },
      "execution_count": 21,
      "outputs": []
    },
    {
      "cell_type": "code",
      "source": [
        "if __name__ == \"__main__\":\n",
        "    llm = ChatOpenAI(api_key= os.environ[\"OPENAI_API_KEY\"], model=\"gpt-3.5-turbo\")\n",
        "    idea_agent = IdeaAgent(llm)\n",
        "    writer_agent = WriterAgent(llm)\n",
        "    manager = GroupChatManager(idea_agent, writer_agent, rounds=3)\n",
        "    topic = \"The impact of AI on creative writing\"\n",
        "\n",
        "    discussion = manager.run_discussion(topic)\n",
        "    print(\"\\n\".join(discussion))"
      ],
      "metadata": {
        "colab": {
          "base_uri": "https://localhost:8080/"
        },
        "id": "cvYvPZt_BSLX",
        "outputId": "3e8d168c-9609-40fb-ef5e-f511041bb8da"
      },
      "execution_count": 22,
      "outputs": [
        {
          "output_type": "stream",
          "name": "stdout",
          "text": [
            "IdeaAgent: Title: \"Beyond the Binary: Navigating the Intersection of AI and Creativity in Writing\"\n",
            "\n",
            "Introduction: Artificial intelligence (AI) has made significant advancements in recent years, impacting various industries including creative writing. While some may view AI as a threat to human capability and creativity, others see it as a tool to enhance and inspire new ways of thinking in writing.\n",
            "\n",
            "1. The Rise of AI in Creative Writing:\n",
            "- Discuss the evolution of AI technologies such as natural language processing and generative models in creative writing.\n",
            "- Highlight the ways in which AI has been used in writing, from automated content generation to personalized writing assistance tools.\n",
            "\n",
            "2. AI as a Collaborator, Not a Replacement:\n",
            "- Explore the concept of using AI as a collaborator in the creative writing process, rather than a replacement for human creativity.\n",
            "- Share examples of successful collaborations between writers and AI technology, showcasing the unique outcomes that can emerge when humans and machines work together.\n",
            "\n",
            "3. Ethical Considerations and Potential Pitfalls:\n",
            "- Address the ethical implications of using AI in creative writing, such as concerns about plagiarism and ownership of AI-generated content.\n",
            "- Discuss potential pitfalls of relying too heavily on AI for creative inspiration, and the importance of maintaining a balance between human intuition and machine efficiency.\n",
            "\n",
            "4. Empowering Creativity Through AI:\n",
            "- Present stories of writers who have used AI technology to break through creative blocks and explore new ideas in their writing.\n",
            "- Highlight the ways in which AI can serve as a tool for democratizing creativity, giving voice to individuals who may not have had access to traditional writing resources.\n",
            "\n",
            "Conclusion: As AI continues to shape the landscape of creative writing, it is essential for writers to embrace the possibilities and challenges that come with this evolving technology. By understanding the intersection of AI and creativity, writers can harness the power of AI as a complementary force in their writing process, ultimately pushing the boundaries of what is possible in the world of creative expression.\n",
            "WriterAgent: Artificial intelligence (AI) has become an integral part of the writing world, with advancements in technology changing the way writers approach their craft. While some may see AI as a threat to human creativity, others view it as a valuable tool that can enhance and inspire new avenues in writing.\n",
            "\n",
            "The evolution of AI in creative writing has been fast-paced, with technologies such as natural language processing and generative models revolutionizing how we write. From automated content generation to personalized writing assistance tools, AI has opened up a world of possibilities for writers looking to streamline their process and explore new creative avenues.\n",
            "\n",
            "One key aspect of AI in creative writing is the idea of collaboration, rather than replacement. By working alongside AI technology, writers can tap into new realms of creativity and explore ideas that may have been previously undiscovered. Successful collaborations between writers and AI have resulted in unique and innovative outcomes, showcasing the power of combining human intuition with machine efficiency.\n",
            "\n",
            "However, with these advancements come ethical considerations and potential pitfalls. Issues such as plagiarism and ownership of AI-generated content are prevalent concerns, highlighting the importance of maintaining a balance between human creativity and technology. It is crucial for writers to approach AI with caution and mindfulness, ensuring that they retain ownership and authenticity in their work.\n",
            "\n",
            "Despite these challenges, AI has the potential to empower creativity in ways never before imagined. Writers have used AI technology to break through creative blocks and explore new ideas, leading to groundbreaking works that push the boundaries of creative expression. AI can serve as a tool for democratizing creativity, giving voice to individuals who may not have had access to traditional writing resources.\n",
            "\n",
            "In conclusion, the intersection of AI and creativity in writing offers a wealth of opportunities for writers to explore and innovate. By embracing the possibilities and challenges that come with AI technology, writers can harness its power as a complementary force in their writing process, pushing the boundaries of what is possible in the world of creative expression. As we navigate this new landscape, it is essential to approach AI with an open mind and a willingness to explore the limitless potential it offers for the future of writing.\n",
            "IdeaAgent: Potential headlines for the article:\n",
            "\n",
            "1. \"Unleashing Creativity: The Impact of AI on the Writing World\"\n",
            "2. \"Collaboration vs Replacement: How AI is Changing Creative Writing\"\n",
            "3. \"Navigating the Ethical Landscape of AI in Writing\"\n",
            "4. \"Breaking Boundaries: The Power of AI in Inspiring Creativity\"\n",
            "5. \"From Blocks to Breakthroughs: How Writers are Using AI to Innovate\"\n",
            "6. \"AI and the Future of Writing: Embracing Opportunities and Challenges\"\n",
            "7. \"Democratizing Creativity: The Role of AI in Empowering Writers\"\n",
            "8. \"The Art of Collaboration: How Writers Can Harness AI to Enhance Their Craft\"\n",
            "9. \"Mindful Writing: Balancing Human Creativity with AI Technology\"\n",
            "10. \"Exploring the Possibilities: How AI is Reshaping the Future of Creative Expression\"\n",
            "WriterAgent: As technology continues to advance at an exponential rate, the writing world is not immune to the transformative power of artificial intelligence (AI). From sparking creativity to streamlining the writing process, AI is revolutionizing the way writers work. But with this wave of innovation comes a plethora of questions and ethical dilemmas. How can writers effectively collaborate with AI without feeling threatened by its potential to replace them? How can AI be harnessed to enhance, rather than diminish, the creative process?\n",
            "\n",
            "The impact of AI on the writing world is explored in depth in a new article, \"Unleashing Creativity: The Impact of AI on the Writing World\". In this article, writers and experts weigh in on the pros and cons of AI in creative writing, shedding light on the complex relationship between human creativity and technological innovation.\n",
            "\n",
            "One of the key points raised in the article is the idea of collaboration versus replacement. While some writers may fear that AI will render them obsolete, others see AI as a tool to enhance their craft and inspire new ideas. By embracing AI as a collaborator rather than a competitor, writers can leverage its capabilities to push the boundaries of their creativity and unlock new possibilities.\n",
            "\n",
            "But with great power comes great responsibility. Navigating the ethical landscape of AI in writing requires careful consideration of issues such as data privacy, intellectual property rights, and algorithm bias. Writers must tread mindfully, balancing the benefits of AI with the potential pitfalls to ensure a fair and equitable writing ecosystem.\n",
            "\n",
            "Despite the challenges, the future of writing is bright with the possibilities that AI presents. From helping writers overcome creative blocks to revolutionizing the publishing industry, AI is reshaping the writing landscape in ways that were once unimaginable. By embracing these opportunities and challenges with an open mind, writers can harness the power of AI to elevate their craft and inspire the next generation of creative expression.\n",
            "\n",
            "So, whether you view AI as a friend or foe, one thing is clear: the writing world is undergoing a profound transformation. As we navigate this brave new world of AI and writing, let us approach it with curiosity, courage, and a commitment to uphold the integrity and diversity of creative expression.\n",
            "IdeaAgent: Possible article ideas:\n",
            "1. \"The Rise of AI in Literature: How Writers Are Embracing Technology to Enhance their Craft\"\n",
            "2. \"Navigating the Ethical Quagmire: The Dos and Don'ts of Using AI in Writing\"\n",
            "3. \"AI vs. Human Creativity: Bridging the Gap for a More Collaborative Future\"\n",
            "4. \"From Manuscript to Machine: How AI is Revolutionizing the Publishing Process\"\n",
            "5. \"Breaking Boundaries: How Writers Are Using AI to Explore New Genres and Styles\"\n",
            "6. \"The Power of AI in Overcoming Writer's Block: Tips and Strategies for Maximizing Creativity\"\n",
            "7. \"The Dark Side of AI: Addressing Bias and Discrimination in Automated Writing Tools\"\n",
            "8. \"Beyond Words: Exploring the Visual and Interactive Possibilities of AI in Writing\"\n",
            "9. \"The AI Writer's Toolkit: Top Tools and Resources for Writers Looking to Integrate AI into their Work\"\n",
            "10. \"AI as a Muse: How Writers Are Finding Inspiration in Machine Learning and Automation\"\n",
            "WriterAgent: As technology continues to advance at an unprecedented rate, the world of literature is no exception to the rise of artificial intelligence. AI, once seen as a threat to the traditional craft of writing, is now being embraced by writers as a tool to enhance their creativity and productivity.\n",
            "\n",
            "From automated writing tools to machine learning algorithms, AI is revolutionizing the way writers approach their work. With the ability to generate story ideas, improve grammar and syntax, and even suggest plot twists, AI is becoming an invaluable resource for writers looking to streamline their process and produce high-quality content.\n",
            "\n",
            "But with great power comes great responsibility. Navigating the ethical quagmire of using AI in writing is essential to ensure that the technology is used in a fair and equitable manner. Writers must be mindful of the biases and discrimination that can be present in automated writing tools, and take steps to address and mitigate these issues.\n",
            "\n",
            "Despite these challenges, the relationship between AI and human creativity is evolving into a more collaborative and symbiotic one. Instead of viewing AI as a threat to their craft, writers are now seeing it as a means to push the boundaries of their creativity and explore new genres and styles.\n",
            "\n",
            "From manuscript to machine, AI is also revolutionizing the publishing process. With the ability to analyze market trends, suggest edits, and even generate book covers, AI is helping writers navigate the often daunting world of publishing with ease.\n",
            "\n",
            "But perhaps most importantly, AI is helping writers overcome one of the biggest challenges they face - writer's block. By providing inspiration, generating ideas, and suggesting new directions for their work, AI is proving to be a powerful tool for maximizing creativity and productivity.\n",
            "\n",
            "As writers continue to explore the possibilities of AI in their work, it is important to stay informed and educated on the latest tools and resources available. By harnessing the power of AI as a muse and a collaborator, writers can unlock new levels of creativity and take their work to new heights.\n"
          ]
        }
      ]
    },
    {
      "cell_type": "code",
      "source": [],
      "metadata": {
        "id": "Upa9R7MrBf_A"
      },
      "execution_count": null,
      "outputs": []
    }
  ]
}