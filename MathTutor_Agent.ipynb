{
  "nbformat": 4,
  "nbformat_minor": 0,
  "metadata": {
    "colab": {
      "provenance": [],
      "authorship_tag": "ABX9TyOIq0zOVC8aWEgXtfFPYlVq",
      "include_colab_link": true
    },
    "kernelspec": {
      "name": "python3",
      "display_name": "Python 3"
    },
    "language_info": {
      "name": "python"
    }
  },
  "cells": [
    {
      "cell_type": "markdown",
      "metadata": {
        "id": "view-in-github",
        "colab_type": "text"
      },
      "source": [
        "<a href=\"https://colab.research.google.com/github/sada1908/edyoda_assign/blob/main/MathTutor_Agent.ipynb\" target=\"_parent\"><img src=\"https://colab.research.google.com/assets/colab-badge.svg\" alt=\"Open In Colab\"/></a>"
      ]
    },
    {
      "cell_type": "code",
      "execution_count": null,
      "metadata": {
        "colab": {
          "base_uri": "https://localhost:8080/"
        },
        "id": "XbnIB6s-b3AM",
        "outputId": "43072431-6a86-4844-c4f6-c4072edf673c"
      },
      "outputs": [
        {
          "output_type": "stream",
          "name": "stdout",
          "text": [
            "\u001b[2K   \u001b[90m━━━━━━━━━━━━━━━━━━━━━━━━━━━━━━━━━━━━━━━━\u001b[0m \u001b[32m781.7/781.7 kB\u001b[0m \u001b[31m16.4 MB/s\u001b[0m eta \u001b[36m0:00:00\u001b[0m\n",
            "\u001b[2K   \u001b[90m━━━━━━━━━━━━━━━━━━━━━━━━━━━━━━━━━━━━━━━━\u001b[0m \u001b[32m45.5/45.5 kB\u001b[0m \u001b[31m3.1 MB/s\u001b[0m eta \u001b[36m0:00:00\u001b[0m\n",
            "\u001b[2K   \u001b[90m━━━━━━━━━━━━━━━━━━━━━━━━━━━━━━━━━━━━━━━━\u001b[0m \u001b[32m147.8/147.8 kB\u001b[0m \u001b[31m8.9 MB/s\u001b[0m eta \u001b[36m0:00:00\u001b[0m\n",
            "\u001b[?25h"
          ]
        }
      ],
      "source": [
        "# Install necessary package\n",
        "!pip install ag2 --quiet"
      ]
    },
    {
      "cell_type": "code",
      "source": [
        "# Imports\n",
        "import re\n",
        "from autogen import AssistantAgent, UserProxyAgent, config_list_from_dotenv"
      ],
      "metadata": {
        "id": "P3cORPUpb8SG"
      },
      "execution_count": null,
      "outputs": []
    },
    {
      "cell_type": "code",
      "source": [
        "import os"
      ],
      "metadata": {
        "id": "Q3XQ2tX3cTc8"
      },
      "execution_count": null,
      "outputs": []
    },
    {
      "cell_type": "code",
      "source": [
        "# Set up your OpenAI API key (use .env or directly insert key safely if testing)\n",
        "# config_list = config_list_from_dotenv()\n",
        "from google.colab import userdata\n",
        "os.environ['OPENAI_API_KEY'] = userdata.get('OPENAI_API_KEY')"
      ],
      "metadata": {
        "id": "nHsBDjb8b_Ls"
      },
      "execution_count": null,
      "outputs": []
    },
    {
      "cell_type": "code",
      "source": [
        "config_list = [\n",
        "    {\n",
        "        'model': 'gpt-4',\n",
        "        'api_key': os.environ['OPENAI_API_KEY']\n",
        "    }\n",
        "]"
      ],
      "metadata": {
        "id": "MGyyP7vNc-4J"
      },
      "execution_count": null,
      "outputs": []
    },
    {
      "cell_type": "code",
      "source": [
        "# import openai for lm purposes\n",
        "import openai\n",
        "from openai import OpenAI\n",
        "client = OpenAI()"
      ],
      "metadata": {
        "id": "gNbmFHkycZAC"
      },
      "execution_count": null,
      "outputs": []
    },
    {
      "cell_type": "code",
      "source": [
        "# 1. Create a Custom Math Tutor Agent\n",
        "class MathTutorAgent(AssistantAgent):\n",
        "    def generate_reply(self, messages, sender, config=None):\n",
        "        user_message = messages[-1]['content']\n",
        "        explanation = self.solve_math_problem(user_message)\n",
        "        return explanation or \"Sorry, I can only help with basic arithmetic (add, subtract, multiply, divide).\"\n",
        "\n",
        "    def solve_math_problem(self, query):\n",
        "        # Look for arithmetic expressions using regex\n",
        "        pattern = r'(-?\\d+)\\s*([\\+\\-\\*/])\\s*(-?\\d+)'\n",
        "        match = re.search(pattern, query)\n",
        "        if not match:\n",
        "            return None\n",
        "\n",
        "        num1, operator, num2 = match.groups()\n",
        "        num1, num2 = int(num1), int(num2)\n",
        "\n",
        "        try:\n",
        "            if operator == '+':\n",
        "                result = num1 + num2\n",
        "                return f\"{num1} + {num2} = {result} because adding {num1} and {num2} gives {result}.\"\n",
        "            elif operator == '-':\n",
        "                result = num1 - num2\n",
        "                return f\"{num1} - {num2} = {result} because subtracting {num2} from {num1} gives {result}.\"\n",
        "            elif operator == '*':\n",
        "                result = num1 * num2\n",
        "                return f\"{num1} * {num2} = {result} because multiplying {num1} and {num2} gives {result}.\"\n",
        "            elif operator == '/':\n",
        "                if num2 == 0:\n",
        "                    return \"Division by zero is undefined.\"\n",
        "                result = num1 / num2\n",
        "                return f\"{num1} / {num2} = {result} because dividing {num1} by {num2} gives {result}.\"\n",
        "        except Exception as e:\n",
        "            return f\"An error occurred while solving the problem: {e}\""
      ],
      "metadata": {
        "id": "R81T-apycs8f"
      },
      "execution_count": null,
      "outputs": []
    },
    {
      "cell_type": "code",
      "source": [
        "# 2. Create Instances of Agents\n",
        "math_tutor = MathTutorAgent(name=\"MathTutor\", llm_config={\"config_list\": config_list})\n",
        "user = UserProxyAgent(\n",
        "    name=\"Student\",\n",
        "    human_input_mode=\"TERMINATE\",  # Auto-send one message, then stop\n",
        "    max_consecutive_auto_reply=1   # Prevents looping\n",
        ")\n"
      ],
      "metadata": {
        "id": "TS1URgzBc4o8"
      },
      "execution_count": null,
      "outputs": []
    },
    {
      "cell_type": "code",
      "source": [
        "# 3. Simulate a conversation\n",
        "user.initiate_chat(\n",
        "    math_tutor,\n",
        "    message=\"What is 8 * 7?\"\n",
        ")"
      ],
      "metadata": {
        "colab": {
          "base_uri": "https://localhost:8080/"
        },
        "id": "E8E4sK2NdJ2w",
        "outputId": "49068a88-fbac-4d11-acf6-d9a09aca4814"
      },
      "execution_count": null,
      "outputs": [
        {
          "output_type": "stream",
          "name": "stdout",
          "text": [
            "Student (to MathTutor):\n",
            "\n",
            "What is 8 * 7?\n",
            "\n",
            "--------------------------------------------------------------------------------\n",
            "MathTutor (to Student):\n",
            "\n",
            "8 * 7 = 56 because multiplying 8 and 7 gives 56.\n",
            "\n",
            "--------------------------------------------------------------------------------\n",
            "\n",
            ">>>>>>>> USING AUTO REPLY...\n",
            "Student (to MathTutor):\n",
            "\n",
            "\n",
            "\n",
            "--------------------------------------------------------------------------------\n",
            "MathTutor (to Student):\n",
            "\n",
            "Sorry, I can only help with basic arithmetic (add, subtract, multiply, divide).\n",
            "\n",
            "--------------------------------------------------------------------------------\n",
            "Please give feedback to MathTutor. Press enter to skip and use auto-reply, or type 'exit' to stop the conversation: \n",
            "\n",
            ">>>>>>>> NO HUMAN INPUT RECEIVED.\n",
            "\n",
            ">>>>>>>> USING AUTO REPLY...\n",
            "Student (to MathTutor):\n",
            "\n",
            "\n",
            "\n",
            "--------------------------------------------------------------------------------\n",
            "MathTutor (to Student):\n",
            "\n",
            "Sorry, I can only help with basic arithmetic (add, subtract, multiply, divide).\n",
            "\n",
            "--------------------------------------------------------------------------------\n",
            "Please give feedback to MathTutor. Press enter to skip and use auto-reply, or type 'exit' to stop the conversation: thats a correct answer\n",
            "Student (to MathTutor):\n",
            "\n",
            "thats a correct answer\n",
            "\n",
            "--------------------------------------------------------------------------------\n",
            "MathTutor (to Student):\n",
            "\n",
            "Sorry, I can only help with basic arithmetic (add, subtract, multiply, divide).\n",
            "\n",
            "--------------------------------------------------------------------------------\n",
            "\n",
            ">>>>>>>> USING AUTO REPLY...\n",
            "Student (to MathTutor):\n",
            "\n",
            "\n",
            "\n",
            "--------------------------------------------------------------------------------\n",
            "MathTutor (to Student):\n",
            "\n",
            "Sorry, I can only help with basic arithmetic (add, subtract, multiply, divide).\n",
            "\n",
            "--------------------------------------------------------------------------------\n",
            "Please give feedback to MathTutor. Press enter to skip and use auto-reply, or type 'exit' to stop the conversation: what is 9 + 5\n",
            "Student (to MathTutor):\n",
            "\n",
            "what is 9 + 5\n",
            "\n",
            "--------------------------------------------------------------------------------\n",
            "MathTutor (to Student):\n",
            "\n",
            "9 + 5 = 14 because adding 9 and 5 gives 14.\n",
            "\n",
            "--------------------------------------------------------------------------------\n",
            "\n",
            ">>>>>>>> USING AUTO REPLY...\n",
            "Student (to MathTutor):\n",
            "\n",
            "\n",
            "\n",
            "--------------------------------------------------------------------------------\n",
            "MathTutor (to Student):\n",
            "\n",
            "Sorry, I can only help with basic arithmetic (add, subtract, multiply, divide).\n",
            "\n",
            "--------------------------------------------------------------------------------\n",
            "Please give feedback to MathTutor. Press enter to skip and use auto-reply, or type 'exit' to stop the conversation: exit\n",
            "\n",
            ">>>>>>>> TERMINATING RUN (cc01ea90-61ac-43a1-a131-0cb9e28389ed): User requested to end the conversation\n"
          ]
        },
        {
          "output_type": "execute_result",
          "data": {
            "text/plain": [
              "ChatResult(chat_id=None, chat_history=[{'content': 'What is 8 * 7?', 'role': 'assistant', 'name': 'Student'}, {'content': '8 * 7 = 56 because multiplying 8 and 7 gives 56.', 'role': 'user', 'name': 'MathTutor'}, {'content': '', 'role': 'assistant', 'name': 'Student'}, {'content': 'Sorry, I can only help with basic arithmetic (add, subtract, multiply, divide).', 'role': 'user', 'name': 'MathTutor'}, {'content': '', 'role': 'assistant', 'name': 'Student'}, {'content': 'Sorry, I can only help with basic arithmetic (add, subtract, multiply, divide).', 'role': 'user', 'name': 'MathTutor'}, {'content': 'thats a correct answer', 'role': 'assistant', 'name': 'Student'}, {'content': 'Sorry, I can only help with basic arithmetic (add, subtract, multiply, divide).', 'role': 'user', 'name': 'MathTutor'}, {'content': '', 'role': 'assistant', 'name': 'Student'}, {'content': 'Sorry, I can only help with basic arithmetic (add, subtract, multiply, divide).', 'role': 'user', 'name': 'MathTutor'}, {'content': 'what is 9 + 5', 'role': 'assistant', 'name': 'Student'}, {'content': '9 + 5 = 14 because adding 9 and 5 gives 14.', 'role': 'user', 'name': 'MathTutor'}, {'content': '', 'role': 'assistant', 'name': 'Student'}, {'content': 'Sorry, I can only help with basic arithmetic (add, subtract, multiply, divide).', 'role': 'user', 'name': 'MathTutor'}], summary='Sorry, I can only help with basic arithmetic (add, subtract, multiply, divide).', cost={'usage_including_cached_inference': {'total_cost': 0}, 'usage_excluding_cached_inference': {'total_cost': 0}}, human_input=['', 'thats a correct answer', 'what is 9 + 5', 'exit'])"
            ]
          },
          "metadata": {},
          "execution_count": 11
        }
      ]
    },
    {
      "cell_type": "code",
      "source": [],
      "metadata": {
        "id": "ZqTd2tQVdM4h"
      },
      "execution_count": null,
      "outputs": []
    }
  ]
}