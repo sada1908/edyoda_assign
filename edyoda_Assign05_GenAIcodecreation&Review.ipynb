{
  "nbformat": 4,
  "nbformat_minor": 0,
  "metadata": {
    "colab": {
      "provenance": [],
      "authorship_tag": "ABX9TyOsKeGmUfhFCoYNSuPj5I50",
      "include_colab_link": true
    },
    "kernelspec": {
      "name": "python3",
      "display_name": "Python 3"
    },
    "language_info": {
      "name": "python"
    }
  },
  "cells": [
    {
      "cell_type": "markdown",
      "metadata": {
        "id": "view-in-github",
        "colab_type": "text"
      },
      "source": [
        "<a href=\"https://colab.research.google.com/github/sada1908/edyoda_assign/blob/main/edyoda_Assign05_GenAIcodecreation%26Review.ipynb\" target=\"_parent\"><img src=\"https://colab.research.google.com/assets/colab-badge.svg\" alt=\"Open In Colab\"/></a>"
      ]
    },
    {
      "cell_type": "markdown",
      "source": [
        "## 🤖 Assignment 5: GenAI Python Code Generation Agent\n",
        "\n",
        "### 🎯 Objective:\n",
        "- Use GPT-3.5/4 via OpenAI API to generate Python code for plotting a sine wave.\n",
        "- Execute the code and validate its correctness.\n",
        "- Review code quality in markdown."
      ],
      "metadata": {
        "id": "0Y3svBVh76yS"
      }
    },
    {
      "cell_type": "code",
      "source": [
        "# Step 1: Install required libraries\n",
        "!pip install openai matplotlib"
      ],
      "metadata": {
        "colab": {
          "base_uri": "https://localhost:8080/"
        },
        "collapsed": true,
        "id": "K_a6KrSP7_mD",
        "outputId": "7b39fdb6-0174-4da7-db76-511203d70a95"
      },
      "execution_count": 2,
      "outputs": [
        {
          "output_type": "stream",
          "name": "stdout",
          "text": [
            "Requirement already satisfied: openai in /usr/local/lib/python3.11/dist-packages (1.84.0)\n",
            "Requirement already satisfied: matplotlib in /usr/local/lib/python3.11/dist-packages (3.10.0)\n",
            "Requirement already satisfied: anyio<5,>=3.5.0 in /usr/local/lib/python3.11/dist-packages (from openai) (4.9.0)\n",
            "Requirement already satisfied: distro<2,>=1.7.0 in /usr/local/lib/python3.11/dist-packages (from openai) (1.9.0)\n",
            "Requirement already satisfied: httpx<1,>=0.23.0 in /usr/local/lib/python3.11/dist-packages (from openai) (0.28.1)\n",
            "Requirement already satisfied: jiter<1,>=0.4.0 in /usr/local/lib/python3.11/dist-packages (from openai) (0.10.0)\n",
            "Requirement already satisfied: pydantic<3,>=1.9.0 in /usr/local/lib/python3.11/dist-packages (from openai) (2.11.5)\n",
            "Requirement already satisfied: sniffio in /usr/local/lib/python3.11/dist-packages (from openai) (1.3.1)\n",
            "Requirement already satisfied: tqdm>4 in /usr/local/lib/python3.11/dist-packages (from openai) (4.67.1)\n",
            "Requirement already satisfied: typing-extensions<5,>=4.11 in /usr/local/lib/python3.11/dist-packages (from openai) (4.14.0)\n",
            "Requirement already satisfied: contourpy>=1.0.1 in /usr/local/lib/python3.11/dist-packages (from matplotlib) (1.3.2)\n",
            "Requirement already satisfied: cycler>=0.10 in /usr/local/lib/python3.11/dist-packages (from matplotlib) (0.12.1)\n",
            "Requirement already satisfied: fonttools>=4.22.0 in /usr/local/lib/python3.11/dist-packages (from matplotlib) (4.58.1)\n",
            "Requirement already satisfied: kiwisolver>=1.3.1 in /usr/local/lib/python3.11/dist-packages (from matplotlib) (1.4.8)\n",
            "Requirement already satisfied: numpy>=1.23 in /usr/local/lib/python3.11/dist-packages (from matplotlib) (2.0.2)\n",
            "Requirement already satisfied: packaging>=20.0 in /usr/local/lib/python3.11/dist-packages (from matplotlib) (24.2)\n",
            "Requirement already satisfied: pillow>=8 in /usr/local/lib/python3.11/dist-packages (from matplotlib) (11.2.1)\n",
            "Requirement already satisfied: pyparsing>=2.3.1 in /usr/local/lib/python3.11/dist-packages (from matplotlib) (3.2.3)\n",
            "Requirement already satisfied: python-dateutil>=2.7 in /usr/local/lib/python3.11/dist-packages (from matplotlib) (2.9.0.post0)\n",
            "Requirement already satisfied: idna>=2.8 in /usr/local/lib/python3.11/dist-packages (from anyio<5,>=3.5.0->openai) (3.10)\n",
            "Requirement already satisfied: certifi in /usr/local/lib/python3.11/dist-packages (from httpx<1,>=0.23.0->openai) (2025.4.26)\n",
            "Requirement already satisfied: httpcore==1.* in /usr/local/lib/python3.11/dist-packages (from httpx<1,>=0.23.0->openai) (1.0.9)\n",
            "Requirement already satisfied: h11>=0.16 in /usr/local/lib/python3.11/dist-packages (from httpcore==1.*->httpx<1,>=0.23.0->openai) (0.16.0)\n",
            "Requirement already satisfied: annotated-types>=0.6.0 in /usr/local/lib/python3.11/dist-packages (from pydantic<3,>=1.9.0->openai) (0.7.0)\n",
            "Requirement already satisfied: pydantic-core==2.33.2 in /usr/local/lib/python3.11/dist-packages (from pydantic<3,>=1.9.0->openai) (2.33.2)\n",
            "Requirement already satisfied: typing-inspection>=0.4.0 in /usr/local/lib/python3.11/dist-packages (from pydantic<3,>=1.9.0->openai) (0.4.1)\n",
            "Requirement already satisfied: six>=1.5 in /usr/local/lib/python3.11/dist-packages (from python-dateutil>=2.7->matplotlib) (1.17.0)\n"
          ]
        }
      ]
    },
    {
      "cell_type": "code",
      "source": [
        "# Step 2: Import libraries\n",
        "import openai\n",
        "import matplotlib.pyplot as plt\n",
        "import numpy as np"
      ],
      "metadata": {
        "id": "RNJd7XMJ7_xW"
      },
      "execution_count": 3,
      "outputs": []
    },
    {
      "cell_type": "code",
      "source": [
        "# Step 3: Set your OpenAI API key\n",
        "from google.colab import userdata\n",
        "openai.api_key = userdata.get('OPENAI_API_KEY')"
      ],
      "metadata": {
        "id": "VIaE6sCK8j39"
      },
      "execution_count": 4,
      "outputs": []
    },
    {
      "cell_type": "code",
      "source": [
        "# Step 4: Ask GPT to generate code\n",
        "prompt = \"\"\"\n",
        "Write a Python function that:\n",
        "- Plots a sine wave using matplotlib.\n",
        "- Uses numpy to create x values from 0 to 2π.\n",
        "- Adds labels and a grid.\n",
        "- Shows the plot.\n",
        "Include comments and make it clean.\n",
        "\"\"\""
      ],
      "metadata": {
        "id": "4Mx41Bf18yQY"
      },
      "execution_count": 6,
      "outputs": []
    },
    {
      "cell_type": "code",
      "source": [
        "client = openai.OpenAI(api_key=openai.api_key)\n",
        "response = client.chat.completions.create(\n",
        "    messages=[\n",
        "        {\n",
        "            \"role\": \"user\",\n",
        "            \"content\": prompt,\n",
        "        }\n",
        "    ],\n",
        "    model=\"gpt-3.5-turbo\",\n",
        ")"
      ],
      "metadata": {
        "id": "OmNwUZDF9BxT"
      },
      "execution_count": 11,
      "outputs": []
    },
    {
      "cell_type": "code",
      "source": [
        "generated_code = response.choices[0].message.content\n",
        "print(generated_code)"
      ],
      "metadata": {
        "colab": {
          "base_uri": "https://localhost:8080/"
        },
        "id": "f8QhmTLW88hB",
        "outputId": "86fcc5d7-6e9b-4053-a2d9-fcb8b73ad50d"
      },
      "execution_count": 12,
      "outputs": [
        {
          "output_type": "stream",
          "name": "stdout",
          "text": [
            "```python\n",
            "import numpy as np\n",
            "import matplotlib.pyplot as plt\n",
            "\n",
            "def plot_sine_wave():\n",
            "    # Create x values from 0 to 2π using numpy\n",
            "    x = np.linspace(0, 2*np.pi, 100)  # 100 points from 0 to 2π\n",
            "    \n",
            "    # Compute y values for the sine wave\n",
            "    y = np.sin(x)\n",
            "    \n",
            "    # Plot the sine wave\n",
            "    plt.plot(x, y)\n",
            "    \n",
            "    # Add labels and title\n",
            "    plt.xlabel('x')\n",
            "    plt.ylabel('sin(x)')\n",
            "    plt.title('Sine Wave')\n",
            "    \n",
            "    # Add grid\n",
            "    plt.grid(True)\n",
            "    \n",
            "    # Show the plot\n",
            "    plt.show()\n",
            "\n",
            "# Call the function to plot the sine wave\n",
            "plot_sine_wave()\n",
            "```\n",
            "\n",
            "This function will plot a sine wave using matplotlib with x values ranging from 0 to 2π, add labels, a title, and a grid, and finally show the plot.\n"
          ]
        }
      ]
    },
    {
      "cell_type": "code",
      "source": [
        "# Clean the GPT-generated code\n",
        "if generated_code.startswith(\"```python\"):\n",
        "    cleaned_code = generated_code.strip(\"`\").split(\"python\")[1].rsplit(\"```\")[0].strip()\n",
        "else:\n",
        "    cleaned_code = generated_code.strip(\"`\").strip()"
      ],
      "metadata": {
        "id": "BgYVz_If-hG1"
      },
      "execution_count": 14,
      "outputs": []
    },
    {
      "cell_type": "code",
      "source": [
        "exec(cleaned_code)"
      ],
      "metadata": {
        "colab": {
          "base_uri": "https://localhost:8080/",
          "height": 472
        },
        "id": "yOEGScao-B-3",
        "outputId": "d660514a-553e-4850-cb8a-e6145ea5db5e"
      },
      "execution_count": 15,
      "outputs": [
        {
          "output_type": "display_data",
          "data": {
            "text/plain": [
              "<Figure size 640x480 with 1 Axes>"
            ],
            "image/png": "[encoded data removed]"
          },
          "metadata": {}
        }
      ]
    },
    {
      "cell_type": "code",
      "source": [
        "# Step 8: Ask GPT to review the generated code\n",
        "review_prompt = f\"\"\"\n",
        "Review the following Python code for plotting a sine wave.\n",
        "Provide feedback on correctness, style, and clarity.\n",
        "Format the review in markdown.\n",
        "{cleaned_code}\n",
        "\"\"\"\n",
        "\n",
        "review_response = client.chat.completions.create(\n",
        "    messages=[\n",
        "        {\n",
        "            \"role\": \"user\",\n",
        "            \"content\": review_prompt,\n",
        "        }\n",
        "    ],\n",
        "    model=\"gpt-3.5-turbo\",\n",
        ")\n",
        "\n",
        "code_review = review_response.choices[0].message.content\n",
        "\n",
        "print(\"\\n------ Code Review -----\")\n",
        "print(code_review)"
      ],
      "metadata": {
        "colab": {
          "base_uri": "https://localhost:8080/"
        },
        "id": "fdWBTmhI-EU3",
        "outputId": "078b9518-211a-4118-c9c6-f1f8e413164b"
      },
      "execution_count": 16,
      "outputs": [
        {
          "output_type": "stream",
          "name": "stdout",
          "text": [
            "\n",
            "------ Code Review -----\n",
            "## Feedback\n",
            "\n",
            "### Correctness\n",
            "The code is correct in terms of plotting a sine wave using numpy and matplotlib. It generates x values from 0 to 2π, computes the corresponding y values for the sine wave, and then plots the sine wave.\n",
            "\n",
            "### Style\n",
            "1. Function definition: The function `plot_sine_wave()` is appropriately named and follows the naming convention for functions in Python.\n",
            "2. Comments: Good use of comments to explain the purpose of each step.\n",
            "3. Variable names: Variable names like `x` and `y` are concise and appropriately describe their content.\n",
            "4. Function call: The function is called correctly at the end of the script.\n",
            "\n",
            "### Clarity\n",
            "1. The code is clear and easy to understand.\n",
            "2. Each step is well-segmented with comments, making it easy to follow the logic of the program.\n",
            "3. Plot labels, title, and grid are added to enhance the clarity of the visualization.\n",
            "\n",
            "Overall, the code is well-structured, in terms of correctness, style, and clarity.\n",
            "\n",
            "```markdown\n",
            "## Suggestions\n",
            "1. Consider adding a docstring to the `plot_sine_wave()` function to describe what it does.\n",
            "2. It would be helpful to provide more context or examples of how this sine wave plot might be used or why it is being generated.\n",
            "3. You might consider adding a legend to the plot to label the sine wave, especially if multiple curves are being plotted.\n",
            "```\n"
          ]
        }
      ]
    }
  ]
}