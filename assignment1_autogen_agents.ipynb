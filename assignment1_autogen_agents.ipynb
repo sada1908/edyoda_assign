{
 "cells": [
  {
   "cell_type": "markdown",
   "metadata": {},
   "source": [
    "# 🔧 Assignment 1: UserProxyAgent and AssistantAgent Interaction Using AutoGen"
   ]
  },
  {
   "cell_type": "code",
   "execution_count": null,
   "metadata": {},
   "outputs": [],
   "source": [
    "# ✅ Step 1: Install pyautogen
",
    "!pip install pyautogen"
   ]
  },
  {
   "cell_type": "code",
   "execution_count": null,
   "metadata": {},
   "outputs": [],
   "source": [
    "# ✅ Step 2: Import libraries and set up environment
",
    "import os
",
    "from autogen import UserProxyAgent, AssistantAgent
",
    "
",
    "# Set your OpenAI API key (masked)
",
    "os.environ["OPENAI_API_KEY"] = "your-openai-api-key-here"  # 🔒 Replace with your actual key securely"
   ]
  },
  {
   "cell_type": "code",
   "execution_count": null,
   "metadata": {},
   "outputs": [],
   "source": [
    "# ✅ Step 3: Configure LLM
",
    "llm_config = {
",
    "    "config_list": [
",
    "        {
",
    "            "model": "gpt-4",
",
    "            "api_key": os.environ["OPENAI_API_KEY"]
",
    "        }
",
    "    ],
",
    "    "cache_seed": 42  # Optional for reproducibility
",
    "}"
   ]
  },
  {
   "cell_type": "code",
   "execution_count": null,
   "metadata": {},
   "outputs": [],
   "source": [
    "# ✅ Step 4: Define Assistant and User Agents
",
    "assistant = AssistantAgent(
",
    "    name="SupportBot",
",
    "    llm_config=llm_config,
",
    "    system_message="You are a helpful customer support agent. Answer questions clearly and politely."
",
    ")
",
    "
",
    "user = UserProxyAgent(
",
    "    name="Customer",
",
    "    human_input_mode="NEVER",  # Full auto-mode
",
    "    max_consecutive_auto_reply=1
",
    ")"
   ]
  },
  {
   "cell_type": "code",
   "execution_count": null,
   "metadata": {},
   "outputs": [],
   "source": [
    "# ✅ Step 5: Initiate Conversation
",
    "print("🔁 Simulating: How do I reset my password?\n")
",
    "
",
    "user.initiate_chat(
",
    "    assistant,
",
    "    message="How do I reset my password?"
",
    ")"
   ]
  }
 ],
 "metadata": {
  "kernelspec": {
   "display_name": "Python 3",
   "language": "python",
   "name": "python3"
  },
  "language_info": {
   "name": "python",
   "version": ""
  }
 },
 "nbformat": 4,
 "nbformat_minor": 5
}
