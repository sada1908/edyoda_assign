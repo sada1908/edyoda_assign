{
 "cells": [
  {
   "cell_type": "markdown",
   "id": "25947144",
   "metadata": {},
   "source": [
    "# 🤝 Autogen Assignment 3: Multi-Agent GroupChat for Brainstorming\n",
    "This notebook uses Autogen's `GroupChat` and `GroupChatManager` to simulate a brainstorming session among developer, designer, and marketer agents."
   ]
  },
  {
   "cell_type": "code",
   "execution_count": 1,
   "id": "99c8554e",
   "metadata": {},
   "outputs": [],
   "source": [
    "# 🛠️ Step 1: Install required packages\n",
    "!pip install pyautogen openai --quiet"
   ]
  },
  {
   "cell_type": "code",
   "execution_count": 2,
   "id": "c724c059",
   "metadata": {},
   "outputs": [],
   "source": [
    "# 🔐 Step 2: Set OpenAI API Key and disable Docker\n",
    "import os\n",
    "os.environ['OPENAI_API_KEY'] = ''\n",
    "os.environ['AUTOGEN_USE_DOCKER'] = 'False'"
   ]
  },
  {
   "cell_type": "code",
   "execution_count": 3,
   "id": "353a5352",
   "metadata": {},
   "outputs": [],
   "source": [
    "# ✅ Step 3: Import Autogen modules\n",
    "import autogen\n",
    "from autogen import AssistantAgent, GroupChat, GroupChatManager"
   ]
  },
  {
   "cell_type": "code",
   "execution_count": 9,
   "id": "ee8888b1",
   "metadata": {},
   "outputs": [],
   "source": [
    "# 🧠 Step 4: Create three agents with distinct roles\n",
    "config = {\n",
    "    \"llm_config\": {\n",
    "        \"model\": \"gpt-3.5-turbo\",\n",
    "        \"api_key\": os.environ['OPENAI_API_KEY']\n",
    "    }\n",
    "}\n",
    "\n",
    "developer = AssistantAgent(\n",
    "    name=\"DeveloperAgent\",\n",
    "    system_message=\"You are a Fram machinery specilist , you focus on developing Farm equipment a sper famrers needs\",\n",
    "    llm_config=config[\"llm_config\"]\n",
    ")\n",
    "\n",
    "designer = AssistantAgent(\n",
    "    name=\"DesignerAgent\",\n",
    "    system_message=\"YOu are tractor design lead , you focus on laying down technical specifications for the Power train , Hydrulics, COmfort , Perfroamnce , Implements for effective multipurpose farm applicaiton\",\n",
    "    llm_config=config[\"llm_config\"]\n",
    ")\n",
    "\n",
    "marketer = AssistantAgent(\n",
    "    name=\"MarketerAgent\",\n",
    "    system_message=\"You are a marketing expert. Think about product-market fit, latent and stated need, and customer delight.\",\n",
    "    llm_config=config[\"llm_config\"]\n",
    ")"
   ]
  },
  {
   "cell_type": "code",
   "execution_count": 10,
   "id": "9a1d7d51",
   "metadata": {},
   "outputs": [],
   "source": [
    "# 🧑‍💼 Step 5: Create GroupChat and GroupChatManager\n",
    "group_chat = GroupChat(\n",
    "    agents=[developer, designer, marketer],\n",
    "    messages=[],\n",
    "    max_round=5\n",
    ")\n",
    "\n",
    "manager = GroupChatManager(\n",
    "    groupchat=group_chat,\n",
    "    llm_config=config[\"llm_config\"]\n",
    ")"
   ]
  },
  {
   "cell_type": "code",
   "execution_count": 11,
   "id": "14ece2c3-b2fa-42af-99e8-b96941834824",
   "metadata": {},
   "outputs": [],
   "source": [
    "from autogen import UserProxyAgent\n",
    "\n",
    "# Create a temporary user proxy to initiate the chat\n",
    "user_proxy = UserProxyAgent(name=\"Facilitator\", human_input_mode=\"NEVER\", code_execution_config={\"use_docker\": False})"
   ]
  },
  {
   "cell_type": "code",
   "execution_count": 12,
   "id": "9557d705",
   "metadata": {},
   "outputs": [
    {
     "name": "stdout",
     "output_type": "stream",
     "text": [
      "\u001b[33mFacilitator\u001b[0m (to chat_manager):\n",
      "\n",
      "What new tractor platform  should we add to our portfolio to boost increased market share and retention in Indian Tractro industry?\n",
      "\n",
      "--------------------------------------------------------------------------------\n",
      "\u001b[32m\n",
      "Next speaker: MarketerAgent\n",
      "\u001b[0m\n",
      "\u001b[33mMarketerAgent\u001b[0m (to chat_manager):\n",
      "\n",
      "To boost market share and retention in the Indian tractor industry, it is essential to understand the needs and preferences of the target customers. One approach would be to introduce a new tractor platform that caters to the latent needs of the customers while also addressing their stated needs. Here are some steps to consider:\n",
      "\n",
      "1. **Market Research**: Conduct thorough market research to understand the current trends, customer preferences, and pain points in the Indian tractor industry. Identify any gaps in the existing product offerings that can be addressed with a new tractor platform.\n",
      "\n",
      "2. **Identify Latent Needs**: Look beyond the stated needs of the customers and identify their latent needs. These are the needs that customers might not explicitly express but would greatly value if fulfilled. For example, Indian farmers may have a latent need for more fuel-efficient tractors that can help reduce operational costs.\n",
      "\n",
      "3. **Product Innovation**: Based on the market research and identified latent needs, innovate a new tractor platform that offers unique features and benefits. This could include increased fuel efficiency, improved durability, advanced technology integration, or enhanced user experience.\n",
      "\n",
      "4. **Customer Delight**: Ensure that the new tractor platform not only meets the expectations of the customers but exceeds them. Focus on creating a product that delights customers and provides them with added value. This could be achieved by offering exceptional after-sales service, warranties, training programs, or customization options.\n",
      "\n",
      "5. **Product-Market Fit**: Test the new tractor platform in the market and gather feedback from customers. Continuously iterate and improve the product based on customer feedback to ensure strong product-market fit. A product that perfectly aligns with the needs and preferences of the target customers is more likely to succeed in the market.\n",
      "\n",
      "By focusing on understanding latent needs, innovating a product that delights customers, and ensuring a strong product-market fit, you can boost market share and retention in the Indian tractor industry with a new tractor platform.\n",
      "\n",
      "--------------------------------------------------------------------------------\n",
      "\u001b[32m\n",
      "Next speaker: DesignerAgent\n",
      "\u001b[0m\n",
      "\u001b[33mDesignerAgent\u001b[0m (to chat_manager):\n",
      "\n",
      "As the tractor design lead, here's a proposal for the technical specifications of the new tractor platform that can help boost market share and retention in the Indian tractor industry:\n",
      "\n",
      "1. **Powertrain**:\n",
      "   - **Engine**: A powerful yet fuel-efficient engine that meets the emission norms in India. Consider a hybrid or electric option for sustainability.\n",
      "   - **Transmission**: Offer a versatile transmission system with multiple speed options for different farming tasks.\n",
      "   - **Drive System**: Provide options for both 2WD and 4WD to cater to the diverse farming needs across different regions in India.\n",
      "\n",
      "2. **Hydraulics**:\n",
      "   - **Hydraulic System**: Implement a robust hydraulic system with high lift capacity for efficient operation with various implements.\n",
      "   - **Hydraulic Controls**: Integrate intuitive hydraulic controls for easy and precise operation, enhancing user experience and productivity.\n",
      "   - **Pump Capacity**: Ensure sufficient hydraulic pump capacity to support the operation of heavy-duty implements with ease.\n",
      "\n",
      "3. **Comfort**:\n",
      "   - **Cabin Design**: Design a spacious and ergonomic cabin with adjustable seating, climate control, and low noise levels for operator comfort during long working hours.\n",
      "   - **Visibility**: Optimize the visibility from the cabin to ensure better control and safety while operating the tractor.\n",
      "   - **Suspension System**: Include a reliable suspension system to minimize operator fatigue and enhance ride comfort, especially on rough terrains.\n",
      "\n",
      "4. **Performance**:\n",
      "   - **Traction Control**: Incorporate advanced traction control systems to improve traction in challenging soil conditions and terrains.\n",
      "   - **Performance Monitoring**: Integrate a digital dashboard with performance monitoring features to help operators optimize tractor performance and fuel efficiency.\n",
      "   - **Speed and Efficiency**: Enhance the tractor's speed and operational efficiency to increase productivity and reduce overall operational costs for farmers.\n",
      "\n",
      "5. **Implement Compatibility**:\n",
      "   - **Implement Mounting**: Ensure compatibility with a wide range of implements commonly used in Indian agriculture for versatility and efficiency.\n",
      "   - **Implement Control**: Provide integrated controls for implements to simplify operation and maximize productivity for farmers.\n",
      "   - **Implement Options**: Offer a variety of implement options such as plows, seeders, harvesters, and more to cater to different farming practices across India.\n",
      "\n",
      "By incorporating these technical specifications focused on powertrain, hydraulics, comfort, performance, and implement compatibility, the new tractor platform can effectively serve the diverse needs of Indian farmers, thereby boosting market share and retention in the Indian tractor industry.\n",
      "\n",
      "--------------------------------------------------------------------------------\n",
      "\u001b[32m\n",
      "Next speaker: DeveloperAgent\n",
      "\u001b[0m\n",
      "\u001b[33mDeveloperAgent\u001b[0m (to chat_manager):\n",
      "\n",
      "As a Farm machinery specialist, you understand the key technical requirements and design considerations that are essential for developing a new tractor platform to cater to the needs of Indian farmers. By incorporating advanced features such as hybrid or electric powertrain options, versatile transmission systems, robust hydraulic systems, ergonomic cabins, superior performance capabilities, and implement compatibility, the new tractor platform can offer farmers an efficient, productive, and comfortable farming experience.\n",
      "\n",
      "By closely collaborating with market research, design, engineering, and manufacturing teams, you can ensure that the new tractor platform aligns perfectly with the identified latent needs of Indian farmers and delivers unmatched value in terms of performance, reliability, and user experience. This customer-centric approach will not only help boost market share but also foster customer loyalty and retention in the highly competitive Indian tractor industry.\n",
      "\n",
      "Therefore, by integrating cutting-edge technologies, innovative design elements, and user-centric features into the new tractor platform, you can position your company as a leader in providing tailored solutions that meet the evolving demands of Indian farmers and drive sustainable growth in the market.\n",
      "\n",
      "--------------------------------------------------------------------------------\n",
      "\u001b[32m\n",
      "Next speaker: MarketerAgent\n",
      "\u001b[0m\n",
      "\u001b[33mMarketerAgent\u001b[0m (to chat_manager):\n",
      "\n",
      "By focusing on customer-centric approaches, including understanding latent needs and providing solutions to meet those needs, you can develop a new tractor platform that resonates with Indian farmers. The integration of advanced features, such as hybrid or electric powertrain options, robust hydraulics, ergonomic cabins, performance enhancements, and implement compatibility, can make the new tractor platform both efficient and user-friendly.\n",
      "\n",
      "Collaboration among various teams, including market research, design, engineering, and manufacturing, will ensure that the new tractor platform meets the requirements of Indian farmers and offers them a superior farming experience. By prioritizing customer delight and delivering value through innovation and technology, you can position your company as a market leader and drive increased market share and customer retention in the Indian tractor industry.\n",
      "\n",
      "--------------------------------------------------------------------------------\n",
      "\u001b[31m\n",
      ">>>>>>>> TERMINATING RUN (8717a8e1-4d53-42f6-8959-1fff682b5fb5): Maximum rounds (5) reached\u001b[0m\n"
     ]
    },
    {
     "data": {
      "text/plain": [
       "ChatResult(chat_id=None, chat_history=[{'content': 'What new tractor platform  should we add to our portfolio to boost increased market share and retention in Indian Tractro industry?', 'role': 'assistant', 'name': 'Facilitator'}], summary='What new tractor platform  should we add to our portfolio to boost increased market share and retention in Indian Tractro industry?', cost={'usage_including_cached_inference': {'total_cost': 0}, 'usage_excluding_cached_inference': {'total_cost': 0}}, human_input=[])"
      ]
     },
     "execution_count": 12,
     "metadata": {},
     "output_type": "execute_result"
    }
   ],
   "source": [
    "# Initiate the chat via UserProxyAgent → GroupChatManager\n",
    "user_proxy.initiate_chat(\n",
    "    recipient=manager,\n",
    "    message=\"What new tractor platform  should we add to our portfolio to boost increased market share and retention in Indian Tractro industry?\"\n",
    ")"
   ]
  },
  {
   "cell_type": "code",
   "execution_count": null,
   "id": "bdf6ba3c-2eb7-4be9-92c3-fd77731a018f",
   "metadata": {},
   "outputs": [],
   "source": []
  }
 ],
 "metadata": {
  "kernelspec": {
   "display_name": "Python 3 (ipykernel)",
   "language": "python",
   "name": "python3"
  },
  "language_info": {
   "codemirror_mode": {
    "name": "ipython",
    "version": 3
   },
   "file_extension": ".py",
   "mimetype": "text/x-python",
   "name": "python",
   "nbconvert_exporter": "python",
   "pygments_lexer": "ipython3",
   "version": "3.13.2"
  }
 },
 "nbformat": 4,
 "nbformat_minor": 5
}
