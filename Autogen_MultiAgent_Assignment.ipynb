{
 "cells": [
  {
   "cell_type": "markdown",
   "id": "7c8f0b26",
   "metadata": {},
   "source": [
    "# 🤖 Autogen Assignment 2: Multi-Agent Interaction\n",
    "This notebook demonstrates how to use `UserProxyAgent` and `AssistantAgent` to simulate a support conversation."
   ]
  },
  {
   "cell_type": "code",
   "execution_count": 2,
   "id": "c82653fc",
   "metadata": {},
   "outputs": [],
   "source": [
    "# 🛠️ Step 1: Install required packages\n",
    "!pip install pyautogen openai --quiet"
   ]
  },
  {
   "cell_type": "code",
   "execution_count": 3,
   "id": "c70e7419",
   "metadata": {},
   "outputs": [],
   "source": [
    "# 🔐 Step 2: Set your OpenAI API key\n",
    "import os\n",
    "os.environ['OPENAI_API_KEY'] = ''  # Replace securely"
   ]
  },
  {
   "cell_type": "code",
   "execution_count": 6,
   "id": "6338869a-2a6f-4ca7-8616-d3d70fde007b",
   "metadata": {},
   "outputs": [],
   "source": [
    "os.environ[\"AUTOGEN_USE_DOCKER\"] = \"False\""
   ]
  },
  {
   "cell_type": "code",
   "execution_count": 4,
   "id": "10f11b2e",
   "metadata": {},
   "outputs": [],
   "source": [
    "# ✅ Step 3: Import Autogen and setup logging\n",
    "import autogen\n",
    "from autogen import UserProxyAgent, AssistantAgent\n",
    "import logging\n",
    "\n",
    "# Enable Autogen logs\n",
    "logging.basicConfig(level=logging.INFO)"
   ]
  },
  {
   "cell_type": "code",
   "execution_count": 7,
   "id": "7c74474d-79c3-4ea6-b059-b6f09746ae14",
   "metadata": {},
   "outputs": [],
   "source": [
    "from autogen import UserProxyAgent, AssistantAgent"
   ]
  },
  {
   "cell_type": "code",
   "execution_count": 8,
   "id": "c1497cd1",
   "metadata": {},
   "outputs": [],
   "source": [
    "# 🧠 Step 4: Define both agents with roles\n",
    "config = {\n",
    "    \"llm_config\": {\n",
    "        \"model\": \"gpt-3.5-turbo\",\n",
    "        \"api_key\": os.environ[\"OPENAI_API_KEY\"]\n",
    "    }\n",
    "}\n",
    "\n",
    "support_agent = AssistantAgent(\n",
    "    name=\"SupportBot\",\n",
    "    system_message=\"You are a helpful customer support assistant.\",\n",
    "    llm_config=config[\"llm_config\"]\n",
    ")\n",
    "\n",
    "user_agent = UserProxyAgent(\n",
    "    name=\"Customer\",\n",
    "    human_input_mode=\"NEVER\",\n",
    "    code_execution_config={\"use_docker\": False}  # ✅ Disable docker explicitly\n",
    ")"
   ]
  },
  {
   "cell_type": "code",
   "execution_count": 9,
   "id": "e27d634d",
   "metadata": {},
   "outputs": [
    {
     "name": "stdout",
     "output_type": "stream",
     "text": [
      "\u001b[33mCustomer\u001b[0m (to SupportBot):\n",
      "\n",
      "How do I reset my password?\n",
      "\n",
      "--------------------------------------------------------------------------------\n"
     ]
    },
    {
     "name": "stderr",
     "output_type": "stream",
     "text": [
      "INFO:httpx:HTTP Request: POST https://api.openai.com/v1/chat/completions \"HTTP/1.1 200 OK\"\n"
     ]
    },
    {
     "name": "stdout",
     "output_type": "stream",
     "text": [
      "\u001b[33mSupportBot\u001b[0m (to Customer):\n",
      "\n",
      "To reset your password, you can usually do it by clicking on the \"Forgot Password\" link on the login page of the website or application you are trying to access. This will typically prompt you to enter your email address or username, and you will receive instructions on how to reset your password via email. Make sure to follow the instructions provided to set a new password for your account. If you're having trouble with the reset process, please let me know which platform you're trying to reset your password on, so I can provide more specific guidance.\n",
      "\n",
      "--------------------------------------------------------------------------------\n",
      "\u001b[33mCustomer\u001b[0m (to SupportBot):\n",
      "\n",
      "\n",
      "\n",
      "--------------------------------------------------------------------------------\n"
     ]
    },
    {
     "name": "stderr",
     "output_type": "stream",
     "text": [
      "INFO:httpx:HTTP Request: POST https://api.openai.com/v1/chat/completions \"HTTP/1.1 200 OK\"\n"
     ]
    },
    {
     "name": "stdout",
     "output_type": "stream",
     "text": [
      "\u001b[33mSupportBot\u001b[0m (to Customer):\n",
      "\n",
      "It seems like your message was cut off. How can I assist you further with resetting your password? Feel free to provide more details or ask any questions you may have.\n",
      "\n",
      "--------------------------------------------------------------------------------\n",
      "\u001b[33mCustomer\u001b[0m (to SupportBot):\n",
      "\n",
      "\n",
      "\n",
      "--------------------------------------------------------------------------------\n"
     ]
    },
    {
     "name": "stderr",
     "output_type": "stream",
     "text": [
      "INFO:httpx:HTTP Request: POST https://api.openai.com/v1/chat/completions \"HTTP/1.1 200 OK\"\n"
     ]
    },
    {
     "name": "stdout",
     "output_type": "stream",
     "text": [
      "\u001b[33mSupportBot\u001b[0m (to Customer):\n",
      "\n",
      "If you need any further assistance or have any questions about resetting your password, feel free to ask. I'm here to help!\n",
      "\n",
      "--------------------------------------------------------------------------------\n",
      "\u001b[31m\n",
      ">>>>>>>> TERMINATING RUN (8b3af24a-a144-4cbb-9cd1-d2388cba5deb): Maximum turns (3) reached\u001b[0m\n"
     ]
    },
    {
     "data": {
      "text/plain": [
       "ChatResult(chat_id=None, chat_history=[{'content': 'How do I reset my password?', 'role': 'assistant', 'name': 'Customer'}, {'content': 'To reset your password, you can usually do it by clicking on the \"Forgot Password\" link on the login page of the website or application you are trying to access. This will typically prompt you to enter your email address or username, and you will receive instructions on how to reset your password via email. Make sure to follow the instructions provided to set a new password for your account. If you\\'re having trouble with the reset process, please let me know which platform you\\'re trying to reset your password on, so I can provide more specific guidance.', 'role': 'user', 'name': 'SupportBot'}, {'content': '', 'role': 'assistant', 'name': 'Customer'}, {'content': 'It seems like your message was cut off. How can I assist you further with resetting your password? Feel free to provide more details or ask any questions you may have.', 'role': 'user', 'name': 'SupportBot'}, {'content': '', 'role': 'assistant', 'name': 'Customer'}, {'content': \"If you need any further assistance or have any questions about resetting your password, feel free to ask. I'm here to help!\", 'role': 'user', 'name': 'SupportBot'}], summary=\"If you need any further assistance or have any questions about resetting your password, feel free to ask. I'm here to help!\", cost={'usage_including_cached_inference': {'total_cost': 0.0004435, 'gpt-3.5-turbo-0125': {'cost': 0.0004435, 'prompt_tokens': 377, 'completion_tokens': 170, 'total_tokens': 547}}, 'usage_excluding_cached_inference': {'total_cost': 0.0004435, 'gpt-3.5-turbo-0125': {'cost': 0.0004435, 'prompt_tokens': 377, 'completion_tokens': 170, 'total_tokens': 547}}}, human_input=[])"
      ]
     },
     "execution_count": 9,
     "metadata": {},
     "output_type": "execute_result"
    }
   ],
   "source": [
    "# 💬 Step 5: Simulate multi-turn conversation\n",
    "user_message = \"How do I reset my password?\"\n",
    "\n",
    "# Initiate conversation\n",
    "user_agent.initiate_chat(\n",
    "    support_agent,\n",
    "    message=user_message,\n",
    "    max_turns=3\n",
    ")"
   ]
  },
  {
   "cell_type": "code",
   "execution_count": null,
   "id": "a1c7f640-4d5c-425a-99fd-a0d5c604947e",
   "metadata": {},
   "outputs": [],
   "source": []
  }
 ],
 "metadata": {
  "kernelspec": {
   "display_name": "Python 3 (ipykernel)",
   "language": "python",
   "name": "python3"
  },
  "language_info": {
   "codemirror_mode": {
    "name": "ipython",
    "version": 3
   },
   "file_extension": ".py",
   "mimetype": "text/x-python",
   "name": "python",
   "nbconvert_exporter": "python",
   "pygments_lexer": "ipython3",
   "version": "3.13.2"
  }
 },
 "nbformat": 4,
 "nbformat_minor": 5
}
