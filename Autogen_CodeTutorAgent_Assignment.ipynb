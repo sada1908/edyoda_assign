{
 "cells": [
  {
   "cell_type": "markdown",
   "id": "890f2c0b",
   "metadata": {},
   "source": [
    "# 👨‍🏫 Autogen Assignment 4: Custom Python Tutor Agent\n",
    "This notebook demonstrates how to create a custom `CodeTutorAgent` by subclassing `AssistantAgent` to teach Python to beginners."
   ]
  },
  {
   "cell_type": "code",
   "execution_count": 1,
   "id": "4e5a4efe",
   "metadata": {},
   "outputs": [],
   "source": [
    "# 🛠️ Step 1: Install required packages\n",
    "!pip install pyautogen openai --quiet"
   ]
  },
  {
   "cell_type": "code",
   "execution_count": 2,
   "id": "a914f017",
   "metadata": {},
   "outputs": [],
   "source": [
    "# 🔐 Step 2: Set your OpenAI API key and disable Docker\n",
    "import os\n",
    "os.environ['OPENAI_API_KEY'] = ''\n",
    "os.environ['AUTOGEN_USE_DOCKER'] = 'False'"
   ]
  },
  {
   "cell_type": "code",
   "execution_count": 3,
   "id": "50a144d8",
   "metadata": {},
   "outputs": [],
   "source": [
    "# ✅ Step 3: Import Autogen and necessary classes\n",
    "from autogen import AssistantAgent\n",
    "import re"
   ]
  },
  {
   "cell_type": "code",
   "execution_count": 4,
   "id": "e058d1b6",
   "metadata": {},
   "outputs": [],
   "source": [
    "# 🧠 Step 4: Create CodeTutorAgent subclass\n",
    "class CodeTutorAgent(AssistantAgent):\n",
    "    def __init__(self, name=\"CodeTutor\", **kwargs):\n",
    "        system_message = \"You are a patient Python tutor for beginners. Always explain in simple terms.\"\n",
    "        super().__init__(name=name, system_message=system_message, **kwargs)\n",
    "\n",
    "    def generate_reply(self, messages, **kwargs):\n",
    "        last_msg = messages[-1]['content'].lower()\n",
    "\n",
    "        # Handle some basic beginner questions directly\n",
    "        if \"what is a loop\" in last_msg:\n",
    "            return (\"A loop in Python lets you repeat actions.\\n\"\n",
    "                    \"There are two main types: 'for' loops and 'while' loops.\\n\"\n",
    "                    \"Example of a 'for' loop: \\n\\n\"\n",
    "                    \"```python\\nfor i in range(5):\\n    print(i)\\n```\\n\"\n",
    "                    \"This prints numbers from 0 to 4.\")\n",
    "\n",
    "        # Otherwise use default generation\n",
    "        return super().generate_reply(messages, **kwargs)"
   ]
  },
  {
   "cell_type": "code",
   "execution_count": 7,
   "id": "48cd8e19",
   "metadata": {},
   "outputs": [
    {
     "name": "stdout",
     "output_type": "stream",
     "text": [
      "📘 Tutor Reply:\n",
      " Python returns an error when the `break` statement is used outside of a `while` or `for` loop. If you try to use `break` in your code outside of a loop, Python will not understand what you are trying to break out of, and it will raise a syntax error.\n"
     ]
    }
   ],
   "source": [
    "# 💬 Step 5: Create and test the tutor agent\n",
    "config = {\n",
    "    \"llm_config\": {\n",
    "        \"model\": \"gpt-3.5-turbo\",\n",
    "        \"api_key\": os.environ[\"OPENAI_API_KEY\"]\n",
    "    }\n",
    "}\n",
    "\n",
    "tutor = CodeTutorAgent(name=\"CodeTutor\", llm_config=config[\"llm_config\"])\n",
    "\n",
    "# Ask a beginner question\n",
    "question = {\"role\": \"user\", \"content\": \"When does python returns error when break is used in While loop?\"}\n",
    "reply = tutor.generate_reply(messages=[question])\n",
    "print(\"📘 Tutor Reply:\\n\", reply)"
   ]
  },
  {
   "cell_type": "code",
   "execution_count": 8,
   "id": "6528fb22-21c0-4d54-9ce8-bdb9858cefb8",
   "metadata": {},
   "outputs": [
    {
     "name": "stdout",
     "output_type": "stream",
     "text": [
      "📘 Tutor Reply:\n",
      " In Python, to ensure that a `break` statement is not used outside of a loop (e.g. `while` or `for` loop), you need to make sure that the `break` statement is indented and included within the body of the loop.\n",
      "\n",
      "For example, a correct usage:\n",
      "\n",
      "```python\n",
      "while condition:\n",
      "    if some_condition:\n",
      "        break\n",
      "```\n",
      "\n",
      "An incorrect usage would be:\n",
      "\n",
      "```python\n",
      "while condition:\n",
      "    # some code here\n",
      "# break statement is outside the while loop\n",
      "break\n",
      "```\n",
      "\n",
      "By following the indentation rules and placing the `break` statement within the loop's body, you can avoid errors related to using `break` outside of a loop.\n"
     ]
    }
   ],
   "source": [
    "# Ask a beginner question\n",
    "question = {\"role\": \"user\", \"content\": \"What is the rule for checking break is not outside of While or for loop?\"}\n",
    "reply = tutor.generate_reply(messages=[question])\n",
    "print(\"📘 Tutor Reply:\\n\", reply)"
   ]
  },
  {
   "cell_type": "code",
   "execution_count": null,
   "id": "e1b8e3ef-9005-4679-8911-09d7f99dc0e6",
   "metadata": {},
   "outputs": [],
   "source": []
  }
 ],
 "metadata": {
  "kernelspec": {
   "display_name": "Python 3 (ipykernel)",
   "language": "python",
   "name": "python3"
  },
  "language_info": {
   "codemirror_mode": {
    "name": "ipython",
    "version": 3
   },
   "file_extension": ".py",
   "mimetype": "text/x-python",
   "name": "python",
   "nbconvert_exporter": "python",
   "pygments_lexer": "ipython3",
   "version": "3.13.2"
  }
 },
 "nbformat": 4,
 "nbformat_minor": 5
}
