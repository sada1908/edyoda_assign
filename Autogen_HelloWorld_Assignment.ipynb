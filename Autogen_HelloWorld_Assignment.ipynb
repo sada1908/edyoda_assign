{
 "cells": [
  {
   "cell_type": "markdown",
   "id": "45be324f",
   "metadata": {},
   "source": [
    "# 🚀 Autogen Assignment 1: Hello World Agent\n",
    "This notebook sets up the Autogen environment and runs a basic Hello World assistant agent using OpenAI."
   ]
  },
  {
   "cell_type": "code",
   "execution_count": 1,
   "id": "42501ce1",
   "metadata": {},
   "outputs": [],
   "source": [
    "# 🛠️ STEP 1: Install Autogen and dependencies\n",
    "!pip install pyautogen openai --quiet"
   ]
  },
  {
   "cell_type": "code",
   "execution_count": 2,
   "id": "b422df21",
   "metadata": {},
   "outputs": [],
   "source": [
    "# 🛡️ STEP 2: Set your OpenAI API key securely\n",
    "import os\n",
    "os.environ['OPENAI_API_KEY'] = ''  # Replace with your actual API key"
   ]
  },
  {
   "cell_type": "code",
   "execution_count": 3,
   "id": "bda72198",
   "metadata": {},
   "outputs": [
    {
     "name": "stdout",
     "output_type": "stream",
     "text": [
      "✅ Autogen imported successfully.\n"
     ]
    }
   ],
   "source": [
    "# ✅ STEP 3: Import Autogen and test for successful installation\n",
    "import autogen\n",
    "print(\"✅ Autogen imported successfully.\")"
   ]
  },
  {
   "cell_type": "code",
   "execution_count": 4,
   "id": "40971637",
   "metadata": {},
   "outputs": [],
   "source": [
    "# 🧠 STEP 4: Define a simple 'Hello World' Agent\n",
    "from autogen import AssistantAgent\n",
    "\n",
    "# Define config for OpenAI model\n",
    "config = {\n",
    "    \"llm_config\": {\n",
    "        \"model\": \"gpt-3.5-turbo\",\n",
    "        \"api_key\": os.environ[\"OPENAI_API_KEY\"]\n",
    "    }\n",
    "}\n",
    "\n",
    "# Create agent\n",
    "hello_agent = AssistantAgent(name=\"HelloAgent\", llm_config=config[\"llm_config\"])"
   ]
  },
  {
   "cell_type": "code",
   "execution_count": 6,
   "id": "c4ceabf5",
   "metadata": {},
   "outputs": [
    {
     "name": "stdout",
     "output_type": "stream",
     "text": [
      "🧠 Agent Response: ```python\n",
      "print(\"Hello, World!\")\n",
      "```\n",
      "\n"
     ]
    }
   ],
   "source": [
    "# 💬 STEP 5: Run a prompt to test the agent's response\n",
    "response = hello_agent.generate_reply(messages=[{\"role\": \"user\", \"content\": \"Say Hello, World!\"}])\n",
    "print(\"🧠 Agent Response:\", response)"
   ]
  },
  {
   "cell_type": "code",
   "execution_count": null,
   "id": "17cd7a2c-c9fe-4813-a573-36e0300df905",
   "metadata": {},
   "outputs": [],
   "source": []
  }
 ],
 "metadata": {
  "kernelspec": {
   "display_name": "Python 3 (ipykernel)",
   "language": "python",
   "name": "python3"
  },
  "language_info": {
   "codemirror_mode": {
    "name": "ipython",
    "version": 3
   },
   "file_extension": ".py",
   "mimetype": "text/x-python",
   "name": "python",
   "nbconvert_exporter": "python",
   "pygments_lexer": "ipython3",
   "version": "3.13.2"
  }
 },
 "nbformat": 4,
 "nbformat_minor": 5
}
