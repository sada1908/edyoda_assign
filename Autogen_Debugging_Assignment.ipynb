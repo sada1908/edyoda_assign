{
 "cells": [
  {
   "cell_type": "markdown",
   "id": "0b85fbfe",
   "metadata": {},
   "source": [
    "# 🐞 Autogen Assignment 5: Debugging and Logging Agent Interactions\n",
    "This notebook demonstrates how to enable logging, simulate a failure case, analyze logs, and apply a fix."
   ]
  },
  {
   "cell_type": "code",
   "execution_count": 5,
   "id": "d5722970",
   "metadata": {},
   "outputs": [],
   "source": [
    "# 🛠️ Step 1: Install required packages\n",
    "!pip install pyautogen openai --quiet"
   ]
  },
  {
   "cell_type": "code",
   "execution_count": 6,
   "id": "fc1477f5",
   "metadata": {},
   "outputs": [],
   "source": [
    "# 🔐 Step 2: Set API key and disable Docker\n",
    "import os\n",
    "os.environ['OPENAI_API_KEY'] = ''\n",
    "os.environ['AUTOGEN_USE_DOCKER'] = 'False'"
   ]
  },
  {
   "cell_type": "code",
   "execution_count": 7,
   "id": "d99086ed",
   "metadata": {},
   "outputs": [],
   "source": [
    "# ✅ Step 3: Import Autogen and set up logging\n",
    "import autogen\n",
    "from autogen import AssistantAgent\n",
    "import logging\n",
    "\n",
    "logging.basicConfig(level=logging.DEBUG)\n",
    "logger = logging.getLogger()\n",
    "logger.setLevel(logging.DEBUG)"
   ]
  },
  {
   "cell_type": "code",
   "execution_count": 8,
   "id": "bdfe4c0f",
   "metadata": {},
   "outputs": [],
   "source": [
    "# 🧠 Step 4: Create a basic agent\n",
    "config = {\n",
    "    \"llm_config\": {\n",
    "        \"model\": \"gpt-3.5-turbo\",\n",
    "        \"api_key\": os.environ[\"OPENAI_API_KEY\"]\n",
    "    }\n",
    "}\n",
    "\n",
    "agent = AssistantAgent(\n",
    "    name=\"DebugTutor\",\n",
    "    system_message=\"You are a Python tutor. Explain concepts clearly. If no code is provided, ask for it.\",\n",
    "    llm_config=config[\"llm_config\"]\n",
    ")"
   ]
  },
  {
   "cell_type": "code",
   "execution_count": 18,
   "id": "86fdcd4c",
   "metadata": {},
   "outputs": [
    {
     "name": "stderr",
     "output_type": "stream",
     "text": [
      "DEBUG:openai._base_client:Request options: {'method': 'post', 'url': '/chat/completions', 'files': None, 'idempotency_key': 'stainless-python-retry-3eb64bbd-1c43-4210-86b9-4535ab5b0d13', 'json_data': {'messages': [{'content': 'You are a Python tutor. Explain concepts clearly. If no code is provided, ask for it.', 'role': 'system'}, {'role': 'user', 'content': 'Explain this code:\\n\\n# Supported operators\\noperator_list = [\\'+\\', \\'-\\', \\'*\\', \\'**\\', \\'/\\',\\'%\\', \\'//\\']\\n\\n# Display operator options\\nprint(\\'Welcome to the Python Calculator!\\')\\nprint(\\'Select an operator from the list below:\\')\\nprint(\\'Available operations: \\' + \\', \\'.join(operator_list))\\n\\n# Get user input\\nwhile True:\\n    try:\\n        num1 = float(input(\\'Enter first number: \\'))\\n        operator = input(\\'Enter operator (+, -, *, **, %, //): \\')\\n        num2 = float(input(\\'Enter second number: \\'))\\n\\n        # Handle division/modulo by zero\\n        if operator in [\\'/\\',\\'%\\', \\'//\\'] and num2 == 0:\\n            print(\"Cannot divide or modulo by zero.\")\\n            continue\\n\\n        # Perform operation\\n        if operator == \\'+\\':\\n            result = num1 + num2\\n        elif operator == \\'-\\':\\n            result = num1 - num2\\n        elif operator == \\'*\\':\\n            result = num1 * num2\\n        elif operator == \\'**\\':\\n            result = num1 ** num2\\n        elif operator == \\'/\\':\\n            result = num1/num2\\n        elif operator == \\'%\\':\\n            result = num1 % num2\\n        elif operator == \\'//\\':\\n            result = num1 // num2\\n        else:\\n            result = \"Invalid operator selected.\"\\n\\n\\n\\n        print(f\"{num1} {operator} {num2} = {result}\")\\n        break\\n\\n    except ValueError:\\n        print(\\'Invalid input! Please enter numeric values.\\')\\n\\n          '}], 'model': 'gpt-3.5-turbo', 'stream': False}}\n",
      "DEBUG:openai._base_client:Sending HTTP Request: POST https://api.openai.com/v1/chat/completions\n",
      "DEBUG:httpcore.connection:close.started\n",
      "DEBUG:httpcore.connection:close.complete\n",
      "DEBUG:httpcore.connection:connect_tcp.started host='api.openai.com' port=443 local_address=None timeout=5.0 socket_options=None\n",
      "DEBUG:httpcore.connection:connect_tcp.complete return_value=<httpcore._backends.sync.SyncStream object at 0x10b3c87d0>\n",
      "DEBUG:httpcore.connection:start_tls.started ssl_context=<ssl.SSLContext object at 0x10adff4a0> server_hostname='api.openai.com' timeout=5.0\n",
      "DEBUG:httpcore.connection:start_tls.complete return_value=<httpcore._backends.sync.SyncStream object at 0x10af8a060>\n",
      "DEBUG:httpcore.http11:send_request_headers.started request=<Request [b'POST']>\n",
      "DEBUG:httpcore.http11:send_request_headers.complete\n",
      "DEBUG:httpcore.http11:send_request_body.started request=<Request [b'POST']>\n",
      "DEBUG:httpcore.http11:send_request_body.complete\n",
      "DEBUG:httpcore.http11:receive_response_headers.started request=<Request [b'POST']>\n",
      "DEBUG:httpcore.http11:receive_response_headers.complete return_value=(b'HTTP/1.1', 200, b'OK', [(b'Date', b'Sun, 15 Jun 2025 11:36:14 GMT'), (b'Content-Type', b'application/json'), (b'Transfer-Encoding', b'chunked'), (b'Connection', b'keep-alive'), (b'access-control-expose-headers', b'X-Request-ID'), (b'openai-organization', b'user-rv5cjw5y7ngbuag2snbhpdee'), (b'openai-processing-ms', b'3074'), (b'openai-version', b'2020-10-01'), (b'x-envoy-upstream-service-time', b'3082'), (b'x-ratelimit-limit-requests', b'5000'), (b'x-ratelimit-limit-tokens', b'4000000'), (b'x-ratelimit-remaining-requests', b'4999'), (b'x-ratelimit-remaining-tokens', b'3999636'), (b'x-ratelimit-reset-requests', b'12ms'), (b'x-ratelimit-reset-tokens', b'5ms'), (b'x-request-id', b'req_e62018bed266f8097c4e8a03878f530e'), (b'strict-transport-security', b'max-age=31536000; includeSubDomains; preload'), (b'cf-cache-status', b'DYNAMIC'), (b'X-Content-Type-Options', b'nosniff'), (b'Server', b'cloudflare'), (b'CF-RAY', b'9501c4aa2f8ba901-MAA'), (b'Content-Encoding', b'br'), (b'alt-svc', b'h3=\":443\"; ma=86400')])\n",
      "INFO:httpx:HTTP Request: POST https://api.openai.com/v1/chat/completions \"HTTP/1.1 200 OK\"\n",
      "DEBUG:httpcore.http11:receive_response_body.started request=<Request [b'POST']>\n",
      "DEBUG:httpcore.http11:receive_response_body.complete\n",
      "DEBUG:httpcore.http11:response_closed.started\n",
      "DEBUG:httpcore.http11:response_closed.complete\n",
      "DEBUG:openai._base_client:HTTP Response: POST https://api.openai.com/v1/chat/completions \"200 OK\" Headers({'date': 'Sun, 15 Jun 2025 11:36:14 GMT', 'content-type': 'application/json', 'transfer-encoding': 'chunked', 'connection': 'keep-alive', 'access-control-expose-headers': 'X-Request-ID', 'openai-organization': 'user-rv5cjw5y7ngbuag2snbhpdee', 'openai-processing-ms': '3074', 'openai-version': '2020-10-01', 'x-envoy-upstream-service-time': '3082', 'x-ratelimit-limit-requests': '5000', 'x-ratelimit-limit-tokens': '4000000', 'x-ratelimit-remaining-requests': '4999', 'x-ratelimit-remaining-tokens': '3999636', 'x-ratelimit-reset-requests': '12ms', 'x-ratelimit-reset-tokens': '5ms', 'x-request-id': 'req_e62018bed266f8097c4e8a03878f530e', 'strict-transport-security': 'max-age=31536000; includeSubDomains; preload', 'cf-cache-status': 'DYNAMIC', 'x-content-type-options': 'nosniff', 'server': 'cloudflare', 'cf-ray': '9501c4aa2f8ba901-MAA', 'content-encoding': 'br', 'alt-svc': 'h3=\":443\"; ma=86400'})\n",
      "DEBUG:openai._base_client:request_id: req_e62018bed266f8097c4e8a03878f530e\n"
     ]
    },
    {
     "name": "stdout",
     "output_type": "stream",
     "text": [
      "🧪 Agent Response:\n",
      " This code is a simple Python calculator program. Here is an explanation of the code:\n",
      "\n",
      "1. The program starts by defining a list of supported operators: ['+', '-', '*', '**', '/', '%', '//'].\n",
      "\n",
      "2. It then displays a welcome message and prompts the user to select an operator from the list of available operations.\n",
      "\n",
      "3. The program enters a while loop to repeatedly ask the user for input until a valid input is provided.\n",
      "\n",
      "4. Inside the loop, the program attempts to read the first number, operator, and the second number from the user. If the input is not a numeric value, it raises a ValueError and prompts the user to enter numeric values.\n",
      "\n",
      "5. It also includes a check to prevent division by zero. If the operator is division ('/'), modulo ('%'), or floor division ('//') and the second number is 0, it informs the user that division or modulo by zero is not allowed and continues to the next iteration of the loop.\n",
      "\n",
      "6. Depending on the operator selected by the user, the program performs the corresponding operation on the two numbers (num1 and num2). The result is calculated and stored in the variable 'result'.\n",
      "\n",
      "7. If an invalid operator is selected by the user, the program sets the result to \"Invalid operator selected.\"\n",
      "\n",
      "8. Finally, the program displays the input numbers, the operator, and the computed result using f-string formatting and then breaks out of the loop.\n",
      "\n",
      "Overall, this code creates a simple calculator that allows the user to perform basic arithmetic operations with two input numbers.\n"
     ]
    }
   ],
   "source": [
    "# 🔍 Step 5: Simulate problematic interaction\n",
    "message = {\"role\": \"user\", \"content\": \"\"\"Explain this code:\n",
    "\n",
    "# Supported operators\n",
    "operator_list = ['+', '-', '*', '**', '/','%', '//']\n",
    "\n",
    "# Display operator options\n",
    "print('Welcome to the Python Calculator!')\n",
    "print('Select an operator from the list below:')\n",
    "print('Available operations: ' + ', '.join(operator_list))\n",
    "\n",
    "# Get user input\n",
    "while True:\n",
    "    try:\n",
    "        num1 = float(input('Enter first number: '))\n",
    "        operator = input('Enter operator (+, -, *, **, %, //): ')\n",
    "        num2 = float(input('Enter second number: '))\n",
    "\n",
    "        # Handle division/modulo by zero\n",
    "        if operator in ['/','%', '//'] and num2 == 0:\n",
    "            print(\"Cannot divide or modulo by zero.\")\n",
    "            continue\n",
    "\n",
    "        # Perform operation\n",
    "        if operator == '+':\n",
    "            result = num1 + num2\n",
    "        elif operator == '-':\n",
    "            result = num1 - num2\n",
    "        elif operator == '*':\n",
    "            result = num1 * num2\n",
    "        elif operator == '**':\n",
    "            result = num1 ** num2\n",
    "        elif operator == '/':\n",
    "            result = num1/num2\n",
    "        elif operator == '%':\n",
    "            result = num1 % num2\n",
    "        elif operator == '//':\n",
    "            result = num1 // num2\n",
    "        else:\n",
    "            result = \"Invalid operator selected.\"\n",
    "\n",
    "        \n",
    "        \n",
    "        print(f\"{num1} {operator} {num2} = {result}\")\n",
    "        break\n",
    "\n",
    "    except ValueError:\n",
    "        print('Invalid input! Please enter numeric values.')\n",
    "\n",
    "          \"\"\" }\n",
    "response = agent.generate_reply(messages=[message])\n",
    "print(\"🧪 Agent Response:\\n\", response)"
   ]
  },
  {
   "cell_type": "code",
   "execution_count": 10,
   "id": "38419507",
   "metadata": {},
   "outputs": [
    {
     "name": "stdout",
     "output_type": "stream",
     "text": [
      "🔧 Fixed Agent Response:\n",
      " 🤖 Could you please share the code snippet you'd like me to explain?\n"
     ]
    }
   ],
   "source": [
    "# ✅ Step 6: Create SafeDebugAgent with fallback response\n",
    "class SafeDebugAgent(AssistantAgent):\n",
    "    def __init__(self, name=\"SafeDebugTutor\", **kwargs):\n",
    "        system_message = \"You are a Python tutor. If the user asks to explain code but provides none, ask for it.\"\n",
    "        super().__init__(name=name, system_message=system_message, **kwargs)\n",
    "\n",
    "    def generate_reply(self, messages, **kwargs):\n",
    "        last_msg = messages[-1]['content'].lower()\n",
    "        if \"explain this code\" in last_msg and len(last_msg.strip()) <= 25:\n",
    "            return \"🤖 Could you please share the code snippet you'd like me to explain?\"\n",
    "        return super().generate_reply(messages, **kwargs)\n",
    "\n",
    "safe_agent = SafeDebugAgent(name=\"SafeDebugTutor\", llm_config=config[\"llm_config\"])\n",
    "fixed_response = safe_agent.generate_reply(messages=[message])\n",
    "print(\"🔧 Fixed Agent Response:\\n\", fixed_response)"
   ]
  },
  {
   "cell_type": "code",
   "execution_count": null,
   "id": "f792d4f0-df36-4fe0-a368-288fdd99fe4c",
   "metadata": {},
   "outputs": [],
   "source": []
  }
 ],
 "metadata": {
  "kernelspec": {
   "display_name": "Python 3 (ipykernel)",
   "language": "python",
   "name": "python3"
  },
  "language_info": {
   "codemirror_mode": {
    "name": "ipython",
    "version": 3
   },
   "file_extension": ".py",
   "mimetype": "text/x-python",
   "name": "python",
   "nbconvert_exporter": "python",
   "pygments_lexer": "ipython3",
   "version": "3.13.2"
  }
 },
 "nbformat": 4,
 "nbformat_minor": 5
}
